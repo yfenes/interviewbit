{
 "cells": [
  {
   "cell_type": "code",
   "execution_count": 53,
   "metadata": {},
   "outputs": [
    {
     "name": "stdout",
     "output_type": "stream",
     "text": [
      "(3, 8)\n"
     ]
    }
   ],
   "source": [
    "class Solution:\n",
    "    # @param A : tuple of integers\n",
    "    # @param B : integer\n",
    "    # @return a list of integers\n",
    "    def twoSum(self, A, B):\n",
    "        \n",
    "        d = {}\n",
    "        for init_ind, elem in enumerate(A):\n",
    "            if (B-elem) in d:\n",
    "                for key, prev_index in d.items():\n",
    "                    if key == B-elem:\n",
    "                        return prev_index+1, init_ind+1 #not zero based\n",
    "            if not elem in d:\n",
    "                d[elem] = init_ind\n",
    "        return []\n",
    "    \n",
    "s = Solution()\n",
    "A = [7, 11, 3, 3,3,3,3, 6, 15, 2, 2]\n",
    "B = 9\n",
    "\n",
    "print(s.twoSum(A,B))"
   ]
  },
  {
   "cell_type": "code",
   "execution_count": null,
   "metadata": {},
   "outputs": [],
   "source": []
  }
 ],
 "metadata": {
  "kernelspec": {
   "display_name": "Python 3",
   "language": "python",
   "name": "python3"
  },
  "language_info": {
   "codemirror_mode": {
    "name": "ipython",
    "version": 3
   },
   "file_extension": ".py",
   "mimetype": "text/x-python",
   "name": "python",
   "nbconvert_exporter": "python",
   "pygments_lexer": "ipython3",
   "version": "3.6.4"
  }
 },
 "nbformat": 4,
 "nbformat_minor": 2
}

{
 "cells": [
  {
   "cell_type": "code",
   "execution_count": 2,
   "metadata": {},
   "outputs": [
    {
     "data": {
      "text/plain": [
       "4"
      ]
     },
     "execution_count": 2,
     "metadata": {},
     "output_type": "execute_result"
    }
   ],
   "source": [
    "class Solution:\n",
    "    # @param A : tuple of integers\n",
    "    # @return an integer\n",
    "    def repeatedNumber(self, A):\n",
    "        n = len(A)\n",
    "        should_sum\n",
    "        for i in A:\n",
    "            if i in mydict:\n",
    "                return i\n",
    "            else:\n",
    "                mydict[i]=i\n",
    "        return -1\n",
    "    \n",
    "    \n",
    "    \n",
    "    # @param A : tuple of integers\n",
    "    # @return an integer\n",
    "    def repeatedNumber2(self, A):\n",
    "        mydict = {}\n",
    "        for i in A:\n",
    "            if i in mydict:\n",
    "                return i\n",
    "            else:\n",
    "                mydict[i]=i\n",
    "        return -1\n",
    "\n",
    "\n",
    "s = Solution()\n",
    "A = [3, 4, 1, 4, 1]\n",
    "s.repeatedNumber(A)"
   ]
  },
  {
   "cell_type": "code",
   "execution_count": null,
   "metadata": {},
   "outputs": [],
   "source": []
  }
 ],
 "metadata": {
  "kernelspec": {
   "display_name": "Python 2",
   "language": "python",
   "name": "python2"
  },
  "language_info": {
   "codemirror_mode": {
    "name": "ipython",
    "version": 2
   },
   "file_extension": ".py",
   "mimetype": "text/x-python",
   "name": "python",
   "nbconvert_exporter": "python",
   "pygments_lexer": "ipython2",
   "version": "2.7.14"
  }
 },
 "nbformat": 4,
 "nbformat_minor": 2
}

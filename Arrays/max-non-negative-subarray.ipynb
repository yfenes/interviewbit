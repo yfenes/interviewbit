{
 "cells": [
  {
   "cell_type": "code",
   "execution_count": 34,
   "metadata": {},
   "outputs": [
    {
     "data": {
      "text/plain": [
       "[0, 1, 2, 5]"
      ]
     },
     "execution_count": 34,
     "metadata": {},
     "output_type": "execute_result"
    }
   ],
   "source": [
    "class Solution:\n",
    "    #############################################\n",
    "    #############################################\n",
    "    ######## NOT COMPLEX BUT LONG A SOL'N #######\n",
    "    #############################################\n",
    "    #############################################\n",
    "    \n",
    "    # @param A : list of integers\n",
    "    # @return a list of integers\n",
    "    def maxset(self, A):\n",
    "        ls, rs, ss = self.collect_sums(A)\n",
    "\n",
    "        m = max(ss)\n",
    "        r_minus_ls = []\n",
    "        index_of_maxs = [i for i, j in enumerate(ss) if j == m]\n",
    "\n",
    "        # In case of multiple max's\n",
    "        for i in index_of_maxs:\n",
    "            r_minus_ls.append(rs[i]-ls[i]+1)\n",
    "\n",
    "        # In case of same-length multiple maxes.\n",
    "        final_index_for_index_of_maxs = r_minus_ls.index(max(r_minus_ls))\n",
    "\n",
    "        final_index = index_of_maxs[final_index_for_index_of_maxs]\n",
    "        \n",
    "        return A[ls[final_index]: rs[final_index]+1]\n",
    "    \n",
    "    def collect_sums(self,A):\n",
    "        A.append(-1)\n",
    "        sums = []\n",
    "        #sums.append(A[0])\n",
    "        lefts = []\n",
    "        rights = []\n",
    "        for i in range (len(A)):\n",
    "            left = i\n",
    "            cur_sum = 0\n",
    "            while(A[i]>=0):\n",
    "                cur_sum += A[i]\n",
    "                i += 1\n",
    "            right = i-1\n",
    "            \n",
    "            lefts.append(left)\n",
    "            rights.append(right)\n",
    "            sums.append(cur_sum)\n",
    "            \n",
    "        return lefts,rights,sums\n",
    "        \n",
    "s = Solution()\n",
    "A = [0,1, 2, 5, -7, 8 , -2, 1,1, 6]\n",
    "\n",
    "\n",
    "s.maxset(A)"
   ]
  },
  {
   "cell_type": "code",
   "execution_count": null,
   "metadata": {},
   "outputs": [],
   "source": []
  }
 ],
 "metadata": {
  "kernelspec": {
   "display_name": "Python 3",
   "language": "python",
   "name": "python3"
  },
  "language_info": {
   "codemirror_mode": {
    "name": "ipython",
    "version": 3
   },
   "file_extension": ".py",
   "mimetype": "text/x-python",
   "name": "python",
   "nbconvert_exporter": "python",
   "pygments_lexer": "ipython3",
   "version": "3.6.4"
  }
 },
 "nbformat": 4,
 "nbformat_minor": 2
}

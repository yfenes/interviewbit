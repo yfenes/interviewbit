{
 "cells": [
  {
   "cell_type": "code",
   "execution_count": 61,
   "metadata": {},
   "outputs": [
    {
     "name": "stdout",
     "output_type": "stream",
     "text": [
      "\n",
      "(1, 100)\n"
     ]
    }
   ],
   "source": [
    "# Definition for an interval.\n",
    "class Interval:\n",
    "    def __init__(self, s=0, e=0):\n",
    "        self.start = s\n",
    "        self.end = e\n",
    "\n",
    "class Solution:\n",
    "    # @param intervals, a list of Intervals\n",
    "    # @return a list of Interval\n",
    "    def merge(self, intervals):\n",
    "        \n",
    "        slist = sorted(intervals, key=lambda a: a.start)\n",
    "        \n",
    "        # Final list\n",
    "        flist = []\n",
    "        flist.append(slist[0])\n",
    "\n",
    "        for i in range(1,len(slist)):\n",
    "            if flist[-1].end >= slist[i].start :\n",
    "                flist[-1].end = max(flist[-1].end,slist[i].end)\n",
    "            else:\n",
    "                flist.append(slist[i])\n",
    "        #tuple_list = [tuple(l) for l in flist]\n",
    "        \n",
    "        return flist\n",
    "        \n",
    "def reader(l):\n",
    "    a = []\n",
    "    for i in range(0,len(l),2):\n",
    "        a.append(Interval(l[i],l[i+1]))\n",
    "    return a\n",
    "    \n",
    "s = Solution()\n",
    "A = [ (1, 10), (2, 9), (3, 8), (4, 7), (5, 6), (6, 6) ]\n",
    "A = [ Interval(2,6), Interval(8,10), Interval(15,18), Interval(1,3) ]\n",
    "\n",
    "k = \"4 100 48 94 16 21 58 71 36 53 49 68 18 42 37 90 68 75 6 57 25 78 58 79 18 29 69 94 5 31 10 87 21 35 1 32 7 24 17 85 30 95 5 63 1 17 67 100 53 55 30 63 7 76 33 51 62 68 78 83 12 24 31 73 64 74 33 40 51 63 17 31 14 29 9 15 39 70 13 67 27 100 10 71 18 47 48 79 70 73 44 59 68 78 24 67 32 70 29 94 45 90 10 76 12 28 31 78 9 44 29 83 21 35 46 93 66 83 21 72 29 37 6 11 56 87 10 26 11 12 15 88 3 13 56 70 40 73 25 62 63 73 47 74 8 36\"\n",
    "kk = k.split(' ')\n",
    "kkk = []\n",
    "for i in kk:\n",
    "    kkk.append(int(i))\n",
    "\n",
    "A = reader(kkk)\n",
    "\n",
    "res = s.merge(A)\n",
    "for i in res:\n",
    "    print(i.start, i.end)"
   ]
  },
  {
   "cell_type": "code",
   "execution_count": null,
   "metadata": {},
   "outputs": [],
   "source": []
  },
  {
   "cell_type": "code",
   "execution_count": null,
   "metadata": {},
   "outputs": [],
   "source": []
  }
 ],
 "metadata": {
  "kernelspec": {
   "display_name": "Python 2",
   "language": "python",
   "name": "python2"
  },
  "language_info": {
   "codemirror_mode": {
    "name": "ipython",
    "version": 2
   },
   "file_extension": ".py",
   "mimetype": "text/x-python",
   "name": "python",
   "nbconvert_exporter": "python",
   "pygments_lexer": "ipython2",
   "version": "2.7.14"
  }
 },
 "nbformat": 4,
 "nbformat_minor": 2
}

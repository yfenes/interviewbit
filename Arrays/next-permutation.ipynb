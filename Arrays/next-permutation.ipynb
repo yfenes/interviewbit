{
 "cells": [
  {
   "cell_type": "code",
   "execution_count": 31,
   "metadata": {},
   "outputs": [
    {
     "data": {
      "text/plain": [
       "[251,\n",
       " 844,\n",
       " 767,\n",
       " 778,\n",
       " 658,\n",
       " 337,\n",
       " 10,\n",
       " 252,\n",
       " 632,\n",
       " 262,\n",
       " 707,\n",
       " 506,\n",
       " 701,\n",
       " 475,\n",
       " 410,\n",
       " 696,\n",
       " 631,\n",
       " 903,\n",
       " 516,\n",
       " 149,\n",
       " 344,\n",
       " 101,\n",
       " 42,\n",
       " 991,\n",
       " 891]"
      ]
     },
     "execution_count": 31,
     "metadata": {},
     "output_type": "execute_result"
    }
   ],
   "source": [
    "class Solution:\n",
    "    # @param A : list of integers\n",
    "    # @return the same list of integer after modification\n",
    "    def nextPermutation(self, A):\n",
    "        # from end to second element\n",
    "        \n",
    "        anyChange = False\n",
    "        \n",
    "        for i in range(len(A)-1,0,-1):\n",
    "            # Azalma gorunce: soldaki ile\n",
    "            # soldakinden buyuk olan en sag ile degistir.\n",
    "            # then sag tarafi kendi icinde sirala\n",
    "            if A[i]>A[i-1]:\n",
    "                anyChange = True\n",
    "                \n",
    "                val, idx = min((val, idx) for (idx, val) in enumerate(A[i:]) if val>A[i-1])\n",
    "                minind = idx + i \n",
    "\n",
    "                if val>A[i-1]:\n",
    "                    A[i-1], A[minind] = A[minind], A[i-1]\n",
    "                else:\n",
    "                    A[i-1],A[i] = A[i],A[i-1]\n",
    "                A[i:] = sorted(A[i:])\n",
    "                break\n",
    "        \n",
    "        # if no next permutation, go to first permutation.\n",
    "        if anyChange == False:\n",
    "            A = A[::-1]\n",
    "            print A\n",
    "        return A\n",
    "    \n",
    "    \n",
    "s = Solution()\n",
    "A = [ 251, 844, 767, 778, 658, 337, 10, 252, 632, 262, 707, 506, 701, 475, 410, 696, 631, 903, 516, 149, 344, 101, 42, 891, 991 ]\n",
    "#A = [3,4,2,1]\n",
    "#A = [1,2,3,4]\n",
    "#for i in range(24):\n",
    "#    print(A)\n",
    "#    A = s.nextPermutation(A)\n",
    "s.nextPermutation(A)"
   ]
  },
  {
   "cell_type": "code",
   "execution_count": null,
   "metadata": {},
   "outputs": [],
   "source": []
  }
 ],
 "metadata": {
  "kernelspec": {
   "display_name": "Python 2",
   "language": "python",
   "name": "python2"
  },
  "language_info": {
   "codemirror_mode": {
    "name": "ipython",
    "version": 2
   },
   "file_extension": ".py",
   "mimetype": "text/x-python",
   "name": "python",
   "nbconvert_exporter": "python",
   "pygments_lexer": "ipython2",
   "version": "2.7.14"
  }
 },
 "nbformat": 4,
 "nbformat_minor": 2
}

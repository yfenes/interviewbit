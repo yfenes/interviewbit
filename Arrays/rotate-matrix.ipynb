{
 "cells": [
  {
   "cell_type": "code",
   "execution_count": 62,
   "metadata": {},
   "outputs": [
    {
     "name": "stdout",
     "output_type": "stream",
     "text": [
      "[21, 16, 11, 6, 1]\n",
      "[22, 17, 12, 7, 2]\n",
      "[23, 18, 13, 8, 3]\n",
      "[24, 19, 14, 9, 4]\n",
      "[25, 20, 15, 10, 5]\n"
     ]
    }
   ],
   "source": [
    "class Solution:\n",
    "    # @param A : list of list of integers\n",
    "    # @return the same list modified\n",
    "    def rotate(self, A):\n",
    "        L = len(A) - 1\n",
    "        \n",
    "        if len(A)%2:\n",
    "            a_range = len(A)/2 + 1\n",
    "        else:\n",
    "            a_range = len(A)/2\n",
    "            \n",
    "        for a in range(0,a_range):\n",
    "            for b in range(0,len(A)/2):\n",
    "                c = L-a\n",
    "                d = L-b\n",
    "                temp0 = A[a][b]\n",
    "                temp1 = A[b][c]\n",
    "                temp2 = A[c][d]\n",
    "                temp3 = A[d][a]\n",
    "                \n",
    "                A[a][b] = temp3\n",
    "                A[b][c] = temp0\n",
    "                A[c][d] = temp1\n",
    "                A[d][a] = temp2\n",
    "                \n",
    "        return A\n",
    "    \n",
    "    \n",
    "    \n",
    "    \n",
    "    \n",
    "    \n",
    "    \n",
    "    # @param A : list of list of integers\n",
    "    # @return the same list modified\n",
    "    def rotate2(self, A):\n",
    "        res = []\n",
    "        \n",
    "        for index, val in enumerate(A[len(A)-1]):\n",
    "            res.extend([[val]])\n",
    "            #print res\n",
    "        \n",
    "        for i in range(len(A)-1):\n",
    "            for index, val in enumerate(A[len(A)-2-i]):\n",
    "                res[index].append(val)\n",
    "                #print res\n",
    "        return res\n",
    "        \n",
    "\n",
    "        \n",
    "s = Solution()\n",
    "A = [[1,  2,  3,  4,  5],\n",
    "     [6,  7,  8,  9,  10],\n",
    "     [11, 12, 13, 14, 15],\n",
    "     [16, 17, 18, 19, 20],\n",
    "     [21, 22, 23, 24, 25]]\n",
    "\n",
    "B = [[21, 16, 11,  6, 1],\n",
    "     [22, 17, 12,  7, 2],\n",
    "     [23, 18, 13,  8, 3],\n",
    "     [24, 19, 14,  9, 4],\n",
    "     [25, 20, 15, 10, 5]]\n",
    "\n",
    "A =[[1, 2, 3, 4],\n",
    "    [5, 6, 7, 8],\n",
    "    [9, 10,11,12],\n",
    "    [13,14,15,16]]\n",
    "\n",
    "R = s.rotate(A)\n",
    "for line in R:\n",
    "    print line"
   ]
  },
  {
   "cell_type": "code",
   "execution_count": null,
   "metadata": {},
   "outputs": [],
   "source": []
  },
  {
   "cell_type": "code",
   "execution_count": null,
   "metadata": {},
   "outputs": [],
   "source": []
  }
 ],
 "metadata": {
  "kernelspec": {
   "display_name": "Python 2",
   "language": "python",
   "name": "python2"
  },
  "language_info": {
   "codemirror_mode": {
    "name": "ipython",
    "version": 2
   },
   "file_extension": ".py",
   "mimetype": "text/x-python",
   "name": "python",
   "nbconvert_exporter": "python",
   "pygments_lexer": "ipython2",
   "version": "2.7.14"
  }
 },
 "nbformat": 4,
 "nbformat_minor": 2
}

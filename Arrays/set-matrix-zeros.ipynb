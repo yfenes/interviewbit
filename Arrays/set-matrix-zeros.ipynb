{
 "cells": [
  {
   "cell_type": "code",
   "execution_count": 8,
   "metadata": {},
   "outputs": [
    {
     "data": {
      "text/plain": [
       "[[0, 0], [0, 0]]"
      ]
     },
     "execution_count": 8,
     "metadata": {},
     "output_type": "execute_result"
    }
   ],
   "source": [
    "class Solution:\n",
    "    # @param A : list of list of integers\n",
    "    # @return the same list modified\n",
    "    def setZeroes(self, A):\n",
    "        rows = len(A)\n",
    "        cols = len(A[0])\n",
    "        \n",
    "        cols_handled = [False] * cols\n",
    "        \n",
    "        for i in range(rows):\n",
    "            \n",
    "            row_handled = False\n",
    "            \n",
    "            for j in range(cols):\n",
    "                if A[i][j] == 0:\n",
    "                    # make the row -1\n",
    "                    if not row_handled:\n",
    "                        for k in range(cols):\n",
    "                            if A[i][k] != 0:\n",
    "\n",
    "                                A[i][k] = -1\n",
    "                        row_handled = True\n",
    "                    \n",
    "                    if not cols_handled[j]:\n",
    "                        # make the col -1\n",
    "                        for row in A:\n",
    "                            if row[j] != 0:\n",
    "                                row[j] = -1\n",
    "                        cols_handled[j] = True\n",
    "                        \n",
    "        for row in range(rows):\n",
    "            for col in range (cols):\n",
    "                if A[row][col]==-1:\n",
    "                    A[row][col] = 0\n",
    "        return A\n",
    "\n",
    "s = Solution()        \n",
    "A = [ [1, 0, 1],\n",
    "      [1, 1, 1],\n",
    "      [1, 1, 1],\n",
    "      [1, 1, 1]]\n",
    "\n",
    "B = [ [0, 0, 0],\n",
    "      [1, 0, 1],\n",
    "      [1, 0, 1],\n",
    "      [1, 0, 1]]\n",
    "\n",
    "A = [[0, 0],\n",
    "     [1, 0]]\n",
    "s.setZeroes(A)"
   ]
  },
  {
   "cell_type": "code",
   "execution_count": null,
   "metadata": {},
   "outputs": [],
   "source": []
  }
 ],
 "metadata": {
  "kernelspec": {
   "display_name": "Python 2",
   "language": "python",
   "name": "python2"
  },
  "language_info": {
   "codemirror_mode": {
    "name": "ipython",
    "version": 2
   },
   "file_extension": ".py",
   "mimetype": "text/x-python",
   "name": "python",
   "nbconvert_exporter": "python",
   "pygments_lexer": "ipython2",
   "version": "2.7.14"
  }
 },
 "nbformat": 4,
 "nbformat_minor": 2
}

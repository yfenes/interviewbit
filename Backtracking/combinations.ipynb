{
 "cells": [
  {
   "cell_type": "code",
   "execution_count": 16,
   "metadata": {},
   "outputs": [
    {
     "data": {
      "text/plain": [
       "[[1, 2, 3, 4],\n",
       " [1, 2, 3, 5],\n",
       " [1, 2, 3, 6],\n",
       " [1, 2, 4, 5],\n",
       " [1, 2, 4, 6],\n",
       " [1, 2, 5, 6],\n",
       " [1, 3, 4, 5],\n",
       " [1, 3, 4, 6],\n",
       " [1, 3, 5, 6],\n",
       " [1, 4, 5, 6],\n",
       " [2, 3, 4, 5],\n",
       " [2, 3, 4, 6],\n",
       " [2, 3, 5, 6],\n",
       " [2, 4, 5, 6],\n",
       " [3, 4, 5, 6]]"
      ]
     },
     "execution_count": 16,
     "metadata": {},
     "output_type": "execute_result"
    }
   ],
   "source": [
    "class Solution:\n",
    "    # @param A : integer\n",
    "    # @param B : integer\n",
    "    # @return a list of list of integers\n",
    "    def combine(self, A, B):\n",
    "        \n",
    "        res, acc = [], []\n",
    "        L = range(1,A+1)\n",
    "        \n",
    "        return self.combinations(L,B,acc,res)\n",
    "        \n",
    "    def combinations(self,L,n,acc,res):\n",
    "        \n",
    "        if n == 0:\n",
    "            return res\n",
    "        elif n == 1:\n",
    "            for i in L:\n",
    "                res.append(acc+[i])\n",
    "        else:\n",
    "            if n <= len(L):\n",
    "                res = self.combinations(L[1:],n-1,acc+[L[0]],res)\n",
    "                res = self.combinations(L[1:],n,acc,res)\n",
    "        return res\n",
    "\n",
    "\n",
    "s = Solution()\n",
    "A = 6\n",
    "B = 4\n",
    "res = s.combine(A,B)\n",
    "res"
   ]
  },
  {
   "cell_type": "code",
   "execution_count": null,
   "metadata": {},
   "outputs": [],
   "source": []
  },
  {
   "cell_type": "code",
   "execution_count": null,
   "metadata": {},
   "outputs": [],
   "source": []
  }
 ],
 "metadata": {
  "kernelspec": {
   "display_name": "Python 2",
   "language": "python",
   "name": "python2"
  },
  "language_info": {
   "codemirror_mode": {
    "name": "ipython",
    "version": 2
   },
   "file_extension": ".py",
   "mimetype": "text/x-python",
   "name": "python",
   "nbconvert_exporter": "python",
   "pygments_lexer": "ipython2",
   "version": "2.7.14"
  }
 },
 "nbformat": 4,
 "nbformat_minor": 2
}

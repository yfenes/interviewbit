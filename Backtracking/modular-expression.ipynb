{
 "cells": [
  {
   "cell_type": "code",
   "execution_count": 41,
   "metadata": {},
   "outputs": [
    {
     "data": {
      "text/plain": [
       "9"
      ]
     },
     "execution_count": 41,
     "metadata": {},
     "output_type": "execute_result"
    }
   ],
   "source": [
    "class Solution:\n",
    "    # @param A : integer\n",
    "    # @param B : integer\n",
    "    # @param C : integer\n",
    "    # @return an integer\n",
    "    def Mod(self, A, B, C):\n",
    "        # return A^B % C\n",
    "        if A == 0:\n",
    "            return 0\n",
    "        if B == 0:\n",
    "            return 1\n",
    "        \n",
    "        if B%2 == 0:\n",
    "            temp = self.Mod(A,B/2,C)\n",
    "            return (temp*temp)%C\n",
    "        return ((A%C)*(self.Mod(A,B-1,C)))%C\n",
    "\n",
    "s = Solution()\n",
    "A = 3\n",
    "B = 7\n",
    "C = 11\n",
    "s.Mod(A,B,C)   "
   ]
  },
  {
   "cell_type": "code",
   "execution_count": null,
   "metadata": {},
   "outputs": [],
   "source": []
  },
  {
   "cell_type": "code",
   "execution_count": null,
   "metadata": {},
   "outputs": [],
   "source": []
  }
 ],
 "metadata": {
  "kernelspec": {
   "display_name": "Python 2",
   "language": "python",
   "name": "python2"
  },
  "language_info": {
   "codemirror_mode": {
    "name": "ipython",
    "version": 2
   },
   "file_extension": ".py",
   "mimetype": "text/x-python",
   "name": "python",
   "nbconvert_exporter": "python",
   "pygments_lexer": "ipython2",
   "version": "2.7.14"
  }
 },
 "nbformat": 4,
 "nbformat_minor": 2
}

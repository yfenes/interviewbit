{
 "cells": [
  {
   "cell_type": "code",
   "execution_count": 55,
   "metadata": {},
   "outputs": [
    {
     "data": {
      "text/plain": [
       "0"
      ]
     },
     "execution_count": 55,
     "metadata": {},
     "output_type": "execute_result"
    }
   ],
   "source": [
    "class Solution:\n",
    "    # @param A : tuple of integers\n",
    "    # @param B : integer\n",
    "    # @return an integer\n",
    "    def search(self, A, B):\n",
    "        ###################################################\n",
    "        ########### EDITORIAL SOLUTION IS GREAT ###########\n",
    "        ###########   IT IS IN THE NEXT CELL    ###########\n",
    "        ###################################################\n",
    "        \n",
    "        A, pivot_ind, afterPivot = self.sortRotated(A,B)\n",
    "        l = 0\n",
    "        r = len(A)-1\n",
    "        new_index = -1\n",
    "        while l<r:\n",
    "            mid = int((l+r)/2)\n",
    "            \n",
    "            if A[mid] == B:\n",
    "                new_index = mid\n",
    "                break\n",
    "            elif A[r] == B:\n",
    "                new_index = r\n",
    "                break\n",
    "            elif A[l] == B:\n",
    "                new_index = l\n",
    "                break\n",
    "            elif A[mid] > B:\n",
    "                r = mid-1\n",
    "            else:\n",
    "                l = mid+1\n",
    "        \n",
    "        \n",
    "        if new_index == -1:\n",
    "            return -1\n",
    "        \n",
    "        return new_index+(pivot_ind*int(afterPivot))\n",
    "        \n",
    "\n",
    "    def sortRotated(self,A,B):\n",
    "        l = 0\n",
    "        r = len(A)-1\n",
    "        pivot_ind = -1\n",
    "        mid = int((l+r)/2)\n",
    "        \n",
    "        while A[mid] <= A[mid+1] and l<r:\n",
    "            mid = int((l+r)/2)\n",
    "            \n",
    "            if  A[mid] > A[mid+1]:\n",
    "                pivot_ind = mid + 1\n",
    "                break\n",
    "            if A[mid] > A[r]:\n",
    "                l = mid\n",
    "            else:\n",
    "                r = mid\n",
    "        \n",
    "        if pivot_ind== -1:\n",
    "            return A, 0, True\n",
    "        \n",
    "        afterPivot = False\n",
    "        if A[-1]>B:\n",
    "            afterPivot = True\n",
    "            return A[pivot_ind:], pivot_ind, afterPivot\n",
    "        else:\n",
    "            return A[:pivot_ind], pivot_ind, afterPivot\n",
    "        \n",
    "        \n",
    "s = Solution()\n",
    "A = [4, 5, 6, 7,8,9,10, 0, 1, 2,3]\n",
    "target = 0\n",
    "\n",
    "A = [ 19, 20, 21, 22, 28, 29, 32, 36, 39, 40, 41, 42, 43, 45, 48, 49, 51, 54, 55, 56, 58, 60, 61, 62, 65, 67, 69, 71, 72, 74, 75, 78, 81, 84, 85, 87, 89, 92, 94, 95, 96, 97, 98, 99, 100, 105, 107, 108, 109, 110, 112, 113, 115, 117, 118, 119, 120, 121, 122, 123, 124, 125, 126, 128, 130, 131, 133, 134, 135, 136, 137, 138, 139, 141, 142, 144, 146, 147, 148, 149, 150, 153, 155, 157, 159, 161, 163, 164, 169, 170, 175, 176, 179, 180, 185, 187, 188, 189, 192, 196, 199, 201, 203, 205, 3, 7, 9, 10, 12, 13, 17 ]\n",
    "target = 6\n",
    "\n",
    "A = [ 1, 7, 67, 133, 178 ]\n",
    "target = 1\n",
    "s.search(A,target)"
   ]
  },
  {
   "cell_type": "code",
   "execution_count": 57,
   "metadata": {},
   "outputs": [
    {
     "data": {
      "text/plain": [
       "7"
      ]
     },
     "execution_count": 57,
     "metadata": {},
     "output_type": "execute_result"
    }
   ],
   "source": [
    "#### EDITORIAL SOLUTION ####\n",
    "class Solution:\n",
    "    # @param A : tuple of integers\n",
    "    # @param B : integer\n",
    "    # @return an integer\n",
    "    def search(self, A, B):\n",
    "\n",
    "        lft, rgt = 0, len(A)-1\n",
    "        while lft<=rgt:\n",
    "            mid = (lft+rgt)/2\n",
    "            l, m, r = A[lft], A[mid], A[rgt]\n",
    "            if m == B:\n",
    "                return mid\n",
    "            elif l <= B < m or (l > m and not(m < B <= r)):\n",
    "                # We choose left half if either : \n",
    "                #    * left half is sorted and B in this range\n",
    "                #    * left half is not sorted, \n",
    "                #      but B isn't in the sorted right half.\n",
    "                rgt = mid-1\n",
    "            else:\n",
    "                lft = mid+1\n",
    "            \n",
    "        return -1\n",
    "s = Solution()\n",
    "A = [4, 5, 6, 7,8,9,10, 0, 1, 2,3]\n",
    "target = 0\n",
    "s.search(A,target)"
   ]
  },
  {
   "cell_type": "code",
   "execution_count": null,
   "metadata": {},
   "outputs": [],
   "source": []
  }
 ],
 "metadata": {
  "kernelspec": {
   "display_name": "Python 2",
   "language": "python",
   "name": "python2"
  },
  "language_info": {
   "codemirror_mode": {
    "name": "ipython",
    "version": 2
   },
   "file_extension": ".py",
   "mimetype": "text/x-python",
   "name": "python",
   "nbconvert_exporter": "python",
   "pygments_lexer": "ipython2",
   "version": "2.7.14"
  }
 },
 "nbformat": 4,
 "nbformat_minor": 2
}

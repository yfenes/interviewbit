{
 "cells": [
  {
   "cell_type": "code",
   "execution_count": 6,
   "metadata": {},
   "outputs": [
    {
     "data": {
      "text/plain": [
       "4"
      ]
     },
     "execution_count": 6,
     "metadata": {},
     "output_type": "execute_result"
    }
   ],
   "source": [
    "class Solution:\n",
    "    # @param A : list of integers\n",
    "    # @param B : integer\n",
    "    # @return an integer\n",
    "    def searchInsert(self, A, B):\n",
    "        \n",
    "        l = 0\n",
    "        r = len(A)-1\n",
    "        \n",
    "        while l<=r:\n",
    "            mid = int((l+r)/2)\n",
    "            \n",
    "            if A[mid]==B:\n",
    "                return mid\n",
    "            \n",
    "            if A[mid] < B:\n",
    "                l = mid+1\n",
    "            else:\n",
    "                r = mid-1\n",
    "        return l\n",
    "                \n",
    "s = Solution()\n",
    "A,B = [1,3,5,6], 7\n",
    "A,B = [1,3,5,6], 2\n",
    "\n",
    "A,B = [1,3,5,6], 7 #→ 4\n",
    "#A,B = [1,3,5,6], 0 #→ 0\n",
    "s.searchInsert(A,B)"
   ]
  },
  {
   "cell_type": "code",
   "execution_count": null,
   "metadata": {},
   "outputs": [],
   "source": []
  }
 ],
 "metadata": {
  "kernelspec": {
   "display_name": "Python 2",
   "language": "python",
   "name": "python2"
  },
  "language_info": {
   "codemirror_mode": {
    "name": "ipython",
    "version": 2
   },
   "file_extension": ".py",
   "mimetype": "text/x-python",
   "name": "python",
   "nbconvert_exporter": "python",
   "pygments_lexer": "ipython2",
   "version": "2.7.14"
  }
 },
 "nbformat": 4,
 "nbformat_minor": 2
}

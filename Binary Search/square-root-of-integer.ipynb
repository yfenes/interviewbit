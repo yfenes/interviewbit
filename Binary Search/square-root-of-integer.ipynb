{
 "cells": [
  {
   "cell_type": "code",
   "execution_count": 21,
   "metadata": {},
   "outputs": [
    {
     "data": {
      "text/plain": [
       "4"
      ]
     },
     "execution_count": 21,
     "metadata": {},
     "output_type": "execute_result"
    }
   ],
   "source": [
    "class Solution:\n",
    "    # @param A : integer\n",
    "    # @return an integer\n",
    "    def sqrt(self, A):\n",
    "        if A == 0:\n",
    "            return 0\n",
    "        if A == 1 or A == 2 or A == 3:\n",
    "            return 1\n",
    "        \n",
    "        l = 0\n",
    "        r = A\n",
    "        while l<r:\n",
    "            mid = int((l+r)/2)\n",
    "            \n",
    "            if (mid*mid) <= A and (mid+1)*(mid+1)>A:\n",
    "                return mid\n",
    "            \n",
    "            if mid*mid < A:\n",
    "                l = mid+1\n",
    "            else:\n",
    "                r = mid-1\n",
    "        return l\n",
    "s = Solution()\n",
    "A = 17\n",
    "s.sqrt(A)"
   ]
  },
  {
   "cell_type": "code",
   "execution_count": null,
   "metadata": {},
   "outputs": [],
   "source": []
  }
 ],
 "metadata": {
  "kernelspec": {
   "display_name": "Python 2",
   "language": "python",
   "name": "python2"
  },
  "language_info": {
   "codemirror_mode": {
    "name": "ipython",
    "version": 2
   },
   "file_extension": ".py",
   "mimetype": "text/x-python",
   "name": "python",
   "nbconvert_exporter": "python",
   "pygments_lexer": "ipython2",
   "version": "2.7.14"
  }
 },
 "nbformat": 4,
 "nbformat_minor": 2
}

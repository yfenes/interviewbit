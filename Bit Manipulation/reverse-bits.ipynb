{
 "cells": [
  {
   "cell_type": "code",
   "execution_count": 1,
   "metadata": {},
   "outputs": [
    {
     "data": {
      "text/plain": [
       "3221225472"
      ]
     },
     "execution_count": 1,
     "metadata": {},
     "output_type": "execute_result"
    }
   ],
   "source": [
    "class Solution:\n",
    "    # @param A : unsigned integer\n",
    "    # @return an unsigned integer\n",
    "    def reverse(self, A):\n",
    "        res = list('00000000000000000000000000000000')\n",
    "        \n",
    "        ind = 0\n",
    "        while A>0:\n",
    "            res[ind] = str(A%2)\n",
    "            A = int(A/2)\n",
    "            ind+=1\n",
    "        \n",
    "        return int(''.join(res), 2)\n",
    "\n",
    "s = Solution()\n",
    "A = 3\n",
    "s.reverse(3)"
   ]
  },
  {
   "cell_type": "code",
   "execution_count": null,
   "metadata": {},
   "outputs": [],
   "source": []
  }
 ],
 "metadata": {
  "kernelspec": {
   "display_name": "Python 3",
   "language": "python",
   "name": "python3"
  },
  "language_info": {
   "codemirror_mode": {
    "name": "ipython",
    "version": 3
   },
   "file_extension": ".py",
   "mimetype": "text/x-python",
   "name": "python",
   "nbconvert_exporter": "python",
   "pygments_lexer": "ipython3",
   "version": "3.6.4"
  }
 },
 "nbformat": 4,
 "nbformat_minor": 2
}

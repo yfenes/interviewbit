{
 "cells": [
  {
   "cell_type": "code",
   "execution_count": 15,
   "metadata": {},
   "outputs": [
    {
     "data": {
      "text/plain": [
       "5"
      ]
     },
     "execution_count": 15,
     "metadata": {},
     "output_type": "execute_result"
    }
   ],
   "source": [
    "class Solution:\n",
    "    # @param A : tuple of integers\n",
    "    # @return an integer\n",
    "    def singleNumber(self, A):\n",
    "        ans = 0\n",
    "        freqs = {}\n",
    "        for i in range(0,31):\n",
    "            freqs[i] = 0\n",
    "            for j in A:\n",
    "                if (j & (1<<i))>>i:\n",
    "                    freqs[i]+=1\n",
    "        \n",
    "        \n",
    "        for i in freqs.keys():\n",
    "            if freqs[i]%3:\n",
    "                ans += 1<<i\n",
    "        return ans\n",
    "\n",
    "        \n",
    "s = Solution()\n",
    "A = [1, 2, 4, 4, 4, 5, 3, 3, 2, 2, 3, 1, 1]\n",
    "s.singleNumber(A)"
   ]
  },
  {
   "cell_type": "code",
   "execution_count": 18,
   "metadata": {},
   "outputs": [
    {
     "data": {
      "text/plain": [
       "3221225472"
      ]
     },
     "execution_count": 18,
     "metadata": {},
     "output_type": "execute_result"
    }
   ],
   "source": [
    "class Solution:\n",
    "    # @param A : unsigned integer\n",
    "    # @return an unsigned integer\n",
    "    def reverse(self, A):\n",
    "        res = list('00000000000000000000000000000000')\n",
    "        \n",
    "        ind = 0\n",
    "        while A>0:\n",
    "            res[ind] = str(A%2)\n",
    "            A = int(A/2)\n",
    "            ind+=1\n",
    "        \n",
    "        return int(''.join(res), 2)\n",
    "\n",
    "s = Solution()\n",
    "A = 3\n",
    "s.reverse(3)"
   ]
  },
  {
   "cell_type": "code",
   "execution_count": null,
   "metadata": {},
   "outputs": [],
   "source": []
  }
 ],
 "metadata": {
  "kernelspec": {
   "display_name": "Python 3",
   "language": "python",
   "name": "python3"
  },
  "language_info": {
   "codemirror_mode": {
    "name": "ipython",
    "version": 3
   },
   "file_extension": ".py",
   "mimetype": "text/x-python",
   "name": "python",
   "nbconvert_exporter": "python",
   "pygments_lexer": "ipython3",
   "version": "3.6.4"
  }
 },
 "nbformat": 4,
 "nbformat_minor": 2
}

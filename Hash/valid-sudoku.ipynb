{
 "cells": [
  {
   "cell_type": "code",
   "execution_count": 28,
   "metadata": {},
   "outputs": [
    {
     "name": "stdout",
     "output_type": "stream",
     "text": [
      "..5.4....\n",
      ".........\n",
      "4...3....\n",
      "...5.75..\n"
     ]
    },
    {
     "data": {
      "text/plain": [
       "0"
      ]
     },
     "execution_count": 28,
     "metadata": {},
     "output_type": "execute_result"
    }
   ],
   "source": [
    "class Solution:\n",
    "    # @param A : tuple of strings\n",
    "    # @return an integer\n",
    "    def isValidSudoku(self, A):\n",
    "        \n",
    "        # Horizontal check\n",
    "        for horizontal in A:\n",
    "            if not self.horizontalCheck(horizontal):\n",
    "                return 0\n",
    "        \n",
    "        # Vertical check\n",
    "        A_tr = self.transposed(A)\n",
    "        \n",
    "        for horizontal in A_tr:\n",
    "            if not self.horizontalCheck(horizontal):\n",
    "                return 0\n",
    "        \n",
    "        # 9-Square check\n",
    "        for i in range(0,len(A),3):\n",
    "            for j in range(0,len(A),3):\n",
    "                list9 = []\n",
    "                for row in range(0,3):\n",
    "                    for col in range(0,3):\n",
    "                        list9.append(A[i+row][j+col])\n",
    "                if not self.horizontalCheck(list9):\n",
    "                    return 0\n",
    "            \n",
    "        return 1\n",
    "        pass\n",
    "    \n",
    "    def transposed(self,A):\n",
    "        new_li = []\n",
    "        for i in range(len(A[0])):\n",
    "            r = ''\n",
    "            for j in range(len(A)):\n",
    "                r += A[j][i]\n",
    "            new_li.append(r)\n",
    "        return new_li\n",
    "    \n",
    "    def horizontalCheck(self, hlist):\n",
    "        nodots = []\n",
    "        for x in hlist:\n",
    "            if x!='.':\n",
    "                nodots.append(x)\n",
    "        if len(set(nodots)) == len(nodots):\n",
    "            return True\n",
    "        return False\n",
    "\n",
    "s = Solution()\n",
    "A = [\"53..7....\", \n",
    "     \"6..195...\", \n",
    "     \".98....6.\", \n",
    "     \"8...6...3\", \n",
    "     \"4..8.3..1\", \n",
    "     \"7...2...6\", \n",
    "     \".6....28.\", \n",
    "     \"...419..5\", \n",
    "     \"....8..79\"]\n",
    "\n",
    "A = [\"..4...63.\", \n",
    "     \".........\", \n",
    "     \"5......9.\", \n",
    "     \"...56....\", \n",
    "     \"4.3.....1\", \n",
    "     \"...7.....\", \n",
    "     \"...5.....\", \n",
    "     \".........\", \n",
    "     \".........\" ]\n",
    "\n",
    "\n",
    "s.isValidSudoku(A)"
   ]
  },
  {
   "cell_type": "code",
   "execution_count": null,
   "metadata": {},
   "outputs": [],
   "source": []
  }
 ],
 "metadata": {
  "kernelspec": {
   "display_name": "Python 3",
   "language": "python",
   "name": "python3"
  },
  "language_info": {
   "codemirror_mode": {
    "name": "ipython",
    "version": 3
   },
   "file_extension": ".py",
   "mimetype": "text/x-python",
   "name": "python",
   "nbconvert_exporter": "python",
   "pygments_lexer": "ipython3",
   "version": "3.6.4"
  }
 },
 "nbformat": 4,
 "nbformat_minor": 2
}

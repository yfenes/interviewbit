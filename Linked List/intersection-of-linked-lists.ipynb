{
 "cells": [
  {
   "cell_type": "code",
   "execution_count": 8,
   "metadata": {},
   "outputs": [
    {
     "data": {
      "text/plain": [
       "31"
      ]
     },
     "execution_count": 8,
     "metadata": {},
     "output_type": "execute_result"
    }
   ],
   "source": [
    "# Definition for singly-linked list.\n",
    "class ListNode:\n",
    "    def __init__(self, x):\n",
    "        self.val = x\n",
    "        self.next = None\n",
    "\n",
    "class Solution:\n",
    "    # @param A : head node of linked list\n",
    "    # @param B : head node of linked list\n",
    "    # @return the head node in the linked list\n",
    "    def getIntersectionNode(self, A, B):\n",
    "        lA = self.length(A)\n",
    "        lB = self.length(B)\n",
    "        \n",
    "        if lA == 0 or lB == 0:\n",
    "            return None\n",
    "        \n",
    "        # Set B always bigger linked list\n",
    "        if lA>lB:\n",
    "            lA, lB = lB, lA\n",
    "            A, B = B, A\n",
    "        \n",
    "        d = lB-lA\n",
    "\n",
    "        for i in range(d):\n",
    "            if B == A:\n",
    "                return A\n",
    "            B = B.next\n",
    "        \n",
    "        while A:\n",
    "            if A == B:\n",
    "                return A\n",
    "            A, B = A.next, B.next\n",
    "            \n",
    "        return None\n",
    "        \n",
    "    \n",
    "    def length(self, node):\n",
    "        if node == None:\n",
    "            return 0\n",
    "        ans = 1\n",
    "        while(node.next):\n",
    "            node = node.next\n",
    "            ans += 1\n",
    "        return ans\n",
    "\n",
    "A1 = ListNode(11)\n",
    "A2 = ListNode(12)\n",
    "B0 = ListNode(20)\n",
    "B1 = ListNode(21)\n",
    "B2 = ListNode(22)\n",
    "B3 = ListNode(23)\n",
    "C1 = ListNode(31)\n",
    "C2 = ListNode(32)\n",
    "C3 = ListNode(33)\n",
    "A1.next = A2\n",
    "A2.next = C1\n",
    "B0.next = B1\n",
    "B1.next = B2\n",
    "B2.next = B3\n",
    "B3.next = C1\n",
    "C1.next = C2\n",
    "C2.next = C3\n",
    "\n",
    "s = Solution()\n",
    "s.getIntersectionNode(A1,B0).val"
   ]
  },
  {
   "cell_type": "code",
   "execution_count": null,
   "metadata": {},
   "outputs": [],
   "source": []
  }
 ],
 "metadata": {
  "kernelspec": {
   "display_name": "Python 2",
   "language": "python",
   "name": "python2"
  },
  "language_info": {
   "codemirror_mode": {
    "name": "ipython",
    "version": 2
   },
   "file_extension": ".py",
   "mimetype": "text/x-python",
   "name": "python",
   "nbconvert_exporter": "python",
   "pygments_lexer": "ipython2",
   "version": "2.7.14"
  }
 },
 "nbformat": 4,
 "nbformat_minor": 2
}

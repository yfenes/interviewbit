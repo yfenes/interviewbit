{
 "cells": [
  {
   "cell_type": "code",
   "execution_count": 44,
   "metadata": {},
   "outputs": [
    {
     "data": {
      "text/plain": [
       "22"
      ]
     },
     "execution_count": 44,
     "metadata": {},
     "output_type": "execute_result"
    }
   ],
   "source": [
    "# Definition for singly-linked list.\n",
    "class ListNode:\n",
    "    def __init__(self, x):\n",
    "        self.val = x\n",
    "        self.next = None\n",
    "\n",
    "class Solution:\n",
    "    # @param A : head node of linked list\n",
    "    # @return the first node in the cycle in the linked list\n",
    "    def detectCycle(self, A):\n",
    "        \n",
    "        slow, fast = A.next, A.next\n",
    "        fast = fast.next if fast else fast\n",
    "        isCycle = False\n",
    "        \n",
    "        # Determine if there is a cycle.\n",
    "        while slow and fast:\n",
    "            if slow == fast:\n",
    "                isCycle = True\n",
    "                break\n",
    "            # update slow & fast\n",
    "            slow, fast = slow.next, fast.next\n",
    "            fast = fast.next if fast else fast\n",
    "                \n",
    "        if isCycle == False:\n",
    "            return None\n",
    "        \n",
    "        # There is a cycle\n",
    "        while True:\n",
    "            if A == slow:\n",
    "                return A\n",
    "            A, slow = A.next, slow.next\n",
    "        \n",
    "\n",
    "        \n",
    "B0 = ListNode(20)\n",
    "B1 = ListNode(21)\n",
    "B2 = ListNode(22)\n",
    "B3 = ListNode(23)\n",
    "B4 = ListNode(24)\n",
    "B5 = ListNode(25)\n",
    "B6 = ListNode(26)\n",
    "\n",
    "B0.next = B1\n",
    "B1.next = B2\n",
    "B2.next = B3\n",
    "B3.next = B4\n",
    "B4.next = B5\n",
    "B5.next = B6\n",
    "B6.next = B2\n",
    "\n",
    "\n",
    "s = Solution()\n",
    "s.detectCycle(B0).val"
   ]
  },
  {
   "cell_type": "code",
   "execution_count": null,
   "metadata": {},
   "outputs": [],
   "source": []
  }
 ],
 "metadata": {
  "kernelspec": {
   "display_name": "Python 2",
   "language": "python",
   "name": "python2"
  },
  "language_info": {
   "codemirror_mode": {
    "name": "ipython",
    "version": 2
   },
   "file_extension": ".py",
   "mimetype": "text/x-python",
   "name": "python",
   "nbconvert_exporter": "python",
   "pygments_lexer": "ipython2",
   "version": "2.7.14"
  }
 },
 "nbformat": 4,
 "nbformat_minor": 2
}

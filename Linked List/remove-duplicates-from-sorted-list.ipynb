{
 "cells": [
  {
   "cell_type": "code",
   "execution_count": 4,
   "metadata": {},
   "outputs": [
    {
     "name": "stdout",
     "output_type": "stream",
     "text": [
      "20\n",
      "21\n",
      "22\n",
      "26\n"
     ]
    }
   ],
   "source": [
    "# Definition for singly-linked list.\n",
    "class ListNode:\n",
    "    def __init__(self, x):\n",
    "        self.val = x\n",
    "        self.next = None\n",
    "\n",
    "class Solution:\n",
    "    # @param A : head node of linked list\n",
    "    # @return the head node in the linked list\n",
    "    def deleteDuplicates(self, A):\n",
    "        to_return = A\n",
    "        while A:\n",
    "            if A.next and A.next.val == A.val:\n",
    "                A.next = A.next.next\n",
    "            else:\n",
    "                A = A.next\n",
    "        return to_return\n",
    "B0 = ListNode(20)\n",
    "B1 = ListNode(21)\n",
    "B2 = ListNode(22)\n",
    "B3 = ListNode(22)\n",
    "B4 = ListNode(22)\n",
    "B5 = ListNode(22)\n",
    "B6 = ListNode(26)\n",
    "\n",
    "B0.next = B1\n",
    "B1.next = B2\n",
    "B2.next = B3\n",
    "B3.next = B4\n",
    "B4.next = B5\n",
    "B5.next = B6\n",
    "\n",
    "s = Solution()\n",
    "res = s.deleteDuplicates(B0)\n",
    "while res:\n",
    "    print(res.val)\n",
    "    res = res.next"
   ]
  },
  {
   "cell_type": "code",
   "execution_count": null,
   "metadata": {},
   "outputs": [],
   "source": []
  }
 ],
 "metadata": {
  "kernelspec": {
   "display_name": "Python 2",
   "language": "python",
   "name": "python2"
  },
  "language_info": {
   "codemirror_mode": {
    "name": "ipython",
    "version": 2
   },
   "file_extension": ".py",
   "mimetype": "text/x-python",
   "name": "python",
   "nbconvert_exporter": "python",
   "pygments_lexer": "ipython2",
   "version": "2.7.14"
  }
 },
 "nbformat": 4,
 "nbformat_minor": 2
}

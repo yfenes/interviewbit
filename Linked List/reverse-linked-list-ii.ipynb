{
 "cells": [
  {
   "cell_type": "code",
   "execution_count": 86,
   "metadata": {},
   "outputs": [
    {
     "name": "stdout",
     "output_type": "stream",
     "text": [
      "234\n"
     ]
    }
   ],
   "source": [
    "# Definition for singly-linked list.\n",
    "class ListNode:\n",
    "    def __init__(self, x):\n",
    "        self.val = x\n",
    "        self.next = None\n",
    "\n",
    "class Solution:\n",
    "    # @param A : head node of linked list\n",
    "    # @param B : integer\n",
    "    # @param C : integer\n",
    "    # @return the head node in the linked list\n",
    "    def reverseBetween(self, A, B, C):\n",
    "        if A == None or A.next == None or B == C:\n",
    "            return A\n",
    "        \n",
    "        orig_A = A\n",
    "        \n",
    "        nth_node = 1\n",
    "        prev_of_start = None\n",
    "        for i in range(B-1):\n",
    "            prev_of_start = A\n",
    "            A = A.next\n",
    "            nth_node +=1\n",
    "        \n",
    "        start = A\n",
    "        real_prev = None\n",
    "        next_of_end = None\n",
    "        \n",
    "        while nth_node <= C:\n",
    "            nextA = A.next\n",
    "            A.next = real_prev\n",
    "            real_prev = A\n",
    "            A = nextA\n",
    "            \n",
    "            # if last of reversing part\n",
    "            if nth_node==C:\n",
    "                if nextA:\n",
    "                    next_of_end = nextA\n",
    "            nth_node += 1\n",
    "        \n",
    "        if prev_of_start:\n",
    "            prev_of_start.next = real_prev\n",
    "        start.next = next_of_end\n",
    "        \n",
    "        if B != 1:\n",
    "            return orig_A\n",
    "        else:\n",
    "            return real_prev\n",
    "\n",
    "        \n",
    "B0 = ListNode(20)\n",
    "B1 = ListNode(21)\n",
    "B2 = ListNode(22)\n",
    "B3 = ListNode(23)\n",
    "B4 = ListNode(24)\n",
    "B5 = ListNode(25)\n",
    "B6 = ListNode(26)\n",
    "B7 = ListNode(27)\n",
    "B8 = ListNode(28)\n",
    "B9 = ListNode(29)\n",
    "\n",
    "B0.next = B1\n",
    "B1.next = B2\n",
    "B2.next = B3\n",
    "B3.next = B4\n",
    "B4.next = B5\n",
    "B5.next = B6\n",
    "B6.next = B7\n",
    "B7.next = B8\n",
    "B8.next = B9\n",
    "\n",
    "K = ListNode(234)\n",
    "\n",
    "s = Solution()\n",
    "#res = s.reverseBetween(B0,1,4)\n",
    "res = s.reverseBetween(K,1,1)\n",
    "\n",
    "while res:\n",
    "    print(res.val)\n",
    "    res = res.next"
   ]
  },
  {
   "cell_type": "code",
   "execution_count": null,
   "metadata": {},
   "outputs": [],
   "source": []
  }
 ],
 "metadata": {
  "kernelspec": {
   "display_name": "Python 3",
   "language": "python",
   "name": "python3"
  },
  "language_info": {
   "codemirror_mode": {
    "name": "ipython",
    "version": 3
   },
   "file_extension": ".py",
   "mimetype": "text/x-python",
   "name": "python",
   "nbconvert_exporter": "python",
   "pygments_lexer": "ipython3",
   "version": "3.6.4"
  }
 },
 "nbformat": 4,
 "nbformat_minor": 2
}

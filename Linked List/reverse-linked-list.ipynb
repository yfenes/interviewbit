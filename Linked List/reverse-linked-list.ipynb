{
 "cells": [
  {
   "cell_type": "code",
   "execution_count": 17,
   "metadata": {},
   "outputs": [
    {
     "data": {
      "text/plain": [
       "26"
      ]
     },
     "execution_count": 17,
     "metadata": {},
     "output_type": "execute_result"
    }
   ],
   "source": [
    "# Definition for singly-linked list.\n",
    "class ListNode:\n",
    "    def __init__(self, x):\n",
    "        self.val = x\n",
    "        self.next = None\n",
    "\n",
    "class Solution:\n",
    "    # @param A : head node of linked list\n",
    "    # @return the head node in the linked list\n",
    "    def reverseList(self, A):\n",
    "        if A == None:\n",
    "            return None\n",
    "        \n",
    "        real_prev = None\n",
    "        \n",
    "        while A:\n",
    "            nextA = A.next\n",
    "            A.next = real_prev\n",
    "            real_prev = A\n",
    "            A = nextA\n",
    "        return real_prev\n",
    "\n",
    "        \n",
    "B0 = ListNode(20)\n",
    "B1 = ListNode(21)\n",
    "B2 = ListNode(22)\n",
    "B3 = ListNode(23)\n",
    "B4 = ListNode(24)\n",
    "B5 = ListNode(25)\n",
    "B6 = ListNode(26)\n",
    "\n",
    "B0.next = B1\n",
    "B1.next = B2\n",
    "B2.next = B3\n",
    "B3.next = B4\n",
    "B4.next = B5\n",
    "B5.next = B6\n",
    "\n",
    "s = Solution()\n",
    "s.reverseList(B0)"
   ]
  },
  {
   "cell_type": "code",
   "execution_count": null,
   "metadata": {},
   "outputs": [],
   "source": []
  }
 ],
 "metadata": {
  "kernelspec": {
   "display_name": "Python 2",
   "language": "python",
   "name": "python2"
  },
  "language_info": {
   "codemirror_mode": {
    "name": "ipython",
    "version": 2
   },
   "file_extension": ".py",
   "mimetype": "text/x-python",
   "name": "python",
   "nbconvert_exporter": "python",
   "pygments_lexer": "ipython2",
   "version": "2.7.14"
  }
 },
 "nbformat": 4,
 "nbformat_minor": 2
}

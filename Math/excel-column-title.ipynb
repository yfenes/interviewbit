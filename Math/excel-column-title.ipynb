{
 "cells": [
  {
   "cell_type": "code",
   "execution_count": 109,
   "metadata": {},
   "outputs": [
    {
     "data": {
      "text/plain": [
       "'BCSUS'"
      ]
     },
     "execution_count": 109,
     "metadata": {},
     "output_type": "execute_result"
    }
   ],
   "source": [
    "class Solution:\n",
    "    # @param A : integer\n",
    "    # @return a strings\n",
    "    def convertToTitle(self, A):\n",
    "        numlist = []\n",
    "        result = ''\n",
    "        \n",
    "        resid = -1\n",
    "        while A>0:\n",
    "            \n",
    "            resid = (A)%26\n",
    "            if resid == 0:\n",
    "                A = int((A-26)/26)\n",
    "                result = chr(resid+26+64) + result\n",
    "            else:\n",
    "                A = int(A/26)\n",
    "                result = chr(resid+64) + result\n",
    "\n",
    "        return result\n",
    "        \n",
    "        \n",
    "        \n",
    "s = Solution()\n",
    "A = 26\n",
    "A = 980089\n",
    "s.convertToTitle(A)"
   ]
  }
 ],
 "metadata": {
  "kernelspec": {
   "display_name": "Python 3",
   "language": "python",
   "name": "python3"
  },
  "language_info": {
   "codemirror_mode": {
    "name": "ipython",
    "version": 3
   },
   "file_extension": ".py",
   "mimetype": "text/x-python",
   "name": "python",
   "nbconvert_exporter": "python",
   "pygments_lexer": "ipython3",
   "version": "3.6.4"
  }
 },
 "nbformat": 4,
 "nbformat_minor": 2
}

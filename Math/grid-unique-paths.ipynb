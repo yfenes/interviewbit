{
 "cells": [
  {
   "cell_type": "code",
   "execution_count": 24,
   "metadata": {},
   "outputs": [
    {
     "data": {
      "text/plain": [
       "1"
      ]
     },
     "execution_count": 24,
     "metadata": {},
     "output_type": "execute_result"
    }
   ],
   "source": [
    "class Solution:\n",
    "    # @param A : integer\n",
    "    # @param B : integer\n",
    "    # @return an integer\n",
    "    def uniquePaths(self, A, B):\n",
    "        A, B = max(A, B), min(A, B)\n",
    "        res = 1\n",
    "        for i in range(B-1):\n",
    "            res *= (A+B-2-i)\n",
    "        \n",
    "        return int(res/self.factorial(B-1))\n",
    "        \n",
    "    def factorial(self,k):\n",
    "        if k == 0:\n",
    "            return 1\n",
    "        else:\n",
    "            return k * self.factorial(k-1)\n",
    "\n",
    "\n",
    "\n",
    "s = Solution()\n",
    "s.uniquePaths(100,1)"
   ]
  },
  {
   "cell_type": "code",
   "execution_count": null,
   "metadata": {},
   "outputs": [],
   "source": []
  }
 ],
 "metadata": {
  "kernelspec": {
   "display_name": "Python 3",
   "language": "python",
   "name": "python3"
  },
  "language_info": {
   "codemirror_mode": {
    "name": "ipython",
    "version": 3
   },
   "file_extension": ".py",
   "mimetype": "text/x-python",
   "name": "python",
   "nbconvert_exporter": "python",
   "pygments_lexer": "ipython3",
   "version": "3.6.4"
  }
 },
 "nbformat": 4,
 "nbformat_minor": 2
}

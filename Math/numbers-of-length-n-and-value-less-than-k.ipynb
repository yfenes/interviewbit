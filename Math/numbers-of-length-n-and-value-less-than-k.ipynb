{
 "cells": [
  {
   "cell_type": "code",
   "execution_count": 35,
   "metadata": {},
   "outputs": [
    {
     "data": {
      "text/plain": [
       "1296"
      ]
     },
     "execution_count": 35,
     "metadata": {},
     "output_type": "execute_result"
    }
   ],
   "source": [
    "class Solution:\n",
    "    # @param A : list of integers\n",
    "    # @param B : integer\n",
    "    # @param C : integer\n",
    "    # @return an integer\n",
    "    def solve(self, A, B, C):\n",
    "        digit_list = A\n",
    "        fixed_length = B\n",
    "        max_num = str(C)\n",
    "        N = len(A)\n",
    "        C = str(C)\n",
    "        tot_sum = 0\n",
    "        \n",
    "        if A == [0]:\n",
    "            if int(max_num) > 0:\n",
    "                return 1\n",
    "            else:\n",
    "                return 0\n",
    "        \n",
    "        if len(C) < B:\n",
    "            return 0\n",
    "        if len(C) > B:\n",
    "            if 0 in A and B>1:\n",
    "                return (N-1) * (N**(B-1))\n",
    "            return N**(B)\n",
    "        \n",
    "        \n",
    "        cur_left = 0\n",
    "        for i in range(len(max_num)):\n",
    "            cur_digit = int(max_num[i])\n",
    "            \n",
    "            possibles_less = 0\n",
    "            for a in A:\n",
    "                if i==0 and a==0 and fixed_length!=1:\n",
    "                    pass\n",
    "                elif a<cur_digit:\n",
    "                    possibles_less += 1\n",
    "            if possibles_less:\n",
    "                tot_sum += possibles_less * (N**(fixed_length-1-i))\n",
    "            \n",
    "            if not cur_digit in A:\n",
    "                break\n",
    "        '''\n",
    "        if 0 in digit_list:\n",
    "            if fixed_length > 1:\n",
    "                tot_sum -= N\n",
    "        '''\n",
    "        return tot_sum\n",
    "\n",
    "A = [1,2,3,8]\n",
    "B = 3\n",
    "C = 326\n",
    "\n",
    "A = [ 0, 1, 2, 5 ]\n",
    "B = 2\n",
    "C = 21\n",
    "\n",
    "A = [ 0, 1, 5 ]\n",
    "B = 1\n",
    "C = 2\n",
    "\n",
    "A = [ 0, 1, 3, 4, 6, 7 ]\n",
    "B = 4\n",
    "C = 59172  #1080\n",
    "\n",
    "s = Solution()\n",
    "s.solve(A,B,C)"
   ]
  },
  {
   "cell_type": "code",
   "execution_count": null,
   "metadata": {},
   "outputs": [],
   "source": []
  },
  {
   "cell_type": "code",
   "execution_count": null,
   "metadata": {},
   "outputs": [],
   "source": []
  },
  {
   "cell_type": "code",
   "execution_count": null,
   "metadata": {},
   "outputs": [],
   "source": []
  },
  {
   "cell_type": "code",
   "execution_count": null,
   "metadata": {},
   "outputs": [],
   "source": []
  },
  {
   "cell_type": "code",
   "execution_count": null,
   "metadata": {},
   "outputs": [],
   "source": []
  },
  {
   "cell_type": "code",
   "execution_count": null,
   "metadata": {},
   "outputs": [],
   "source": []
  },
  {
   "cell_type": "code",
   "execution_count": null,
   "metadata": {},
   "outputs": [],
   "source": []
  },
  {
   "cell_type": "code",
   "execution_count": null,
   "metadata": {},
   "outputs": [],
   "source": [
    "        \n",
    "        '''\n",
    "        pos = []\n",
    "        for i in A:\n",
    "            if i < int(C[0]):\n",
    "                pos.append(i)\n",
    "        tot_sum += len(pos) * (N**(B-1))\n",
    "        print(tot_sum)\n",
    "        \n",
    "        digit_exceed = False\n",
    "        base = 0\n",
    "        while(int(C[base]) in A ):\n",
    "            \n",
    "            pos = []\n",
    "            for i in A:\n",
    "                if base+1<len(C):\n",
    "                    if i < int(C[base+1]):\n",
    "                        pos.append(i)\n",
    "            tot_sum += len(pos) * (N**(B-1-base))\n",
    "            print(C[base],' and next digit:',C[base+1], pos, 'base:',base,',',(N**(B-1-base)),'aaa',tot_sum)\n",
    "\n",
    "            \n",
    "            base += 1\n",
    "            if(base>=len(C)):\n",
    "                tot_sum += len(pos)\n",
    "                digit_exceed = True\n",
    "                print('digit exceed', digit_exceed)\n",
    "                break\n",
    "        \n",
    "        if not digit_exceed:\n",
    "            pos = []\n",
    "            for i in A:\n",
    "                if base+1<len(C):\n",
    "                    if i < int(C[base+1]):\n",
    "                        pos.append(i)\n",
    "            tot_sum += len(pos) * (N**(B-1-base))\n",
    "            print(pos, 'base:',base,',',N,'^(',B,'-1-',base,'),',(N**(B-1-base)),'aaa',tot_sum)\n",
    "\n",
    "        print('bbb',tot_sum)\n",
    "        '''"
   ]
  }
 ],
 "metadata": {
  "kernelspec": {
   "display_name": "Python 3",
   "language": "python",
   "name": "python3"
  },
  "language_info": {
   "codemirror_mode": {
    "name": "ipython",
    "version": 3
   },
   "file_extension": ".py",
   "mimetype": "text/x-python",
   "name": "python",
   "nbconvert_exporter": "python",
   "pygments_lexer": "ipython3",
   "version": "3.6.4"
  }
 },
 "nbformat": 4,
 "nbformat_minor": 2
}

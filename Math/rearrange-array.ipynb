{
 "cells": [
  {
   "cell_type": "code",
   "execution_count": 38,
   "metadata": {},
   "outputs": [
    {
     "data": {
      "text/plain": [
       "[4, 3, 0, 1, 2, 6, 5]"
      ]
     },
     "execution_count": 38,
     "metadata": {},
     "output_type": "execute_result"
    }
   ],
   "source": [
    "class Solution:\n",
    "    # @param A : list of integers\n",
    "    # Modify the array A which is passed by reference. \n",
    "    # You do not need to return anything in this case. \n",
    "    def arrange(self, A):\n",
    "        N = len(A)\n",
    "        \n",
    "        if(N==1 or N==0):\n",
    "            return A\n",
    "        \n",
    "        for i in range(N):\n",
    "            prev_slot = i   \n",
    "\n",
    "            cycle_point_value = A[prev_slot]\n",
    "            end_cycle_index = -1\n",
    "            isCycle = False\n",
    "            while A[prev_slot]<N:\n",
    "                isCycle = True\n",
    "                slot = A[prev_slot]\n",
    "                A[prev_slot] = A[slot]%N + N\n",
    "                #print(i,prev_slot,slot,A)\n",
    "                if A[slot] >= N:\n",
    "                    end_cycle_index = prev_slot\n",
    "                prev_slot = slot\n",
    "            if isCycle:\n",
    "                A[end_cycle_index] = cycle_point_value + N\n",
    "                #print(i,'   ', A)\n",
    "        for i in range(N):\n",
    "            A[i] -= N\n",
    "        return A\n",
    "    \n",
    "s = Solution()\n",
    "A = [1,0,3,2,4,5,6]\n",
    "A = [2,5,4,6,0,3,1]\n",
    "s.arrange(A)"
   ]
  },
  {
   "cell_type": "code",
   "execution_count": null,
   "metadata": {},
   "outputs": [],
   "source": []
  },
  {
   "cell_type": "code",
   "execution_count": null,
   "metadata": {},
   "outputs": [],
   "source": []
  },
  {
   "cell_type": "code",
   "execution_count": null,
   "metadata": {},
   "outputs": [],
   "source": []
  },
  {
   "cell_type": "code",
   "execution_count": null,
   "metadata": {},
   "outputs": [],
   "source": []
  },
  {
   "cell_type": "code",
   "execution_count": null,
   "metadata": {},
   "outputs": [],
   "source": []
  },
  {
   "cell_type": "code",
   "execution_count": null,
   "metadata": {},
   "outputs": [],
   "source": []
  },
  {
   "cell_type": "code",
   "execution_count": null,
   "metadata": {},
   "outputs": [],
   "source": [
    "\n",
    "\n",
    "\n",
    "def arrange2(self, A):\n",
    "        N = len(A)\n",
    "        \n",
    "        if(N==1 or N==0):\n",
    "            return A\n",
    "        \n",
    "        # if N is even, decreasing array.\n",
    "        if N%2==0:\n",
    "            for i in range(N):\n",
    "                A[i] = N-1-i\n",
    "        else:\n",
    "            half = int(N/2)\n",
    "            for i in range(half):\n",
    "                A[i] = half+1+i\n",
    "            A[half] = half\n",
    "            \n",
    "            for i in range(half+1,N):\n",
    "                A[i] = i-half-1\n",
    "        return A"
   ]
  }
 ],
 "metadata": {
  "kernelspec": {
   "display_name": "Python 3",
   "language": "python",
   "name": "python3"
  },
  "language_info": {
   "codemirror_mode": {
    "name": "ipython",
    "version": 3
   },
   "file_extension": ".py",
   "mimetype": "text/x-python",
   "name": "python",
   "nbconvert_exporter": "python",
   "pygments_lexer": "ipython3",
   "version": "3.6.4"
  }
 },
 "nbformat": 4,
 "nbformat_minor": 2
}

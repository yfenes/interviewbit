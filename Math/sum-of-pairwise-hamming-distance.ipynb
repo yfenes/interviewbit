{
 "cells": [
  {
   "cell_type": "code",
   "execution_count": 67,
   "metadata": {},
   "outputs": [
    {
     "name": "stdout",
     "output_type": "stream",
     "text": [
      "1.3956069946289062\n",
      "0.00015282630920410156\n"
     ]
    },
    {
     "data": {
      "text/plain": [
       "[106327313,\n",
       " 3459427540,\n",
       " 241229546,\n",
       " 1614526623,\n",
       " 465068860,\n",
       " 1905059349,\n",
       " 3619445273,\n",
       " 2936284521,\n",
       " 1416102465,\n",
       " 2008733576]"
      ]
     },
     "execution_count": 67,
     "metadata": {},
     "output_type": "execute_result"
    }
   ],
   "source": [
    "import time\n",
    "class Solution:\n",
    "    # @param A : tuple of integers\n",
    "    # @return an integer\n",
    "    def hammingDistance(self, A):\n",
    "        \n",
    "        mydict = {}\n",
    "        res = 0\n",
    "        N = len(A)\n",
    "        ts = time.time()\n",
    "        for i in range(0,32):\n",
    "            mydict[i] = 0\n",
    "            for j in range(N):\n",
    "                cur_num = A[j] >> i\n",
    "                if cur_num%2:\n",
    "                    mydict[i] += 1\n",
    "        t1 = time.time()\n",
    "        print(t1-ts)\n",
    "        for key, value in mydict.items():\n",
    "            res += value*(N-value)\n",
    "        t2 = time.time()\n",
    "        print(t2-t1)\n",
    "        return (res*2)%1000000007\n",
    "    \n",
    "    def dist(self,a,b):\n",
    "        return sum([int(x) for x in bin(a ^ b)[2:]])\n",
    "        \n",
    "\n",
    "        '''\n",
    "        for i in range(N):\n",
    "            cur_num = A[i]\n",
    "            base = 0\n",
    "            while cur_num>0:\n",
    "                if cur_num%2:\n",
    "                    if base in mydict:\n",
    "                        mydict[base] += 1\n",
    "                    else:\n",
    "                        mydict[base] = 1\n",
    "                cur_num =  cur_num >> 1\n",
    "                base += 1\n",
    "        \n",
    "        '''\n",
    "        \n",
    "        \n",
    "s = Solution()\n",
    "import random\n",
    "A = random.sample(range(0, 2**32), 100000)\n",
    "#A = [2, 4, 6, 2, 4, 6, 2, 4, 6, 2, 4, 6, 2, 4, 6, 2, 4, 6, 2, 4, 6, 2, 4, 6, 2, 4, 6, 234242, 63453, 5464564, 3452423, 234242, 63453, 5464564, 3452423, 234242, 63453, 5464564, 3452423, 234242, 63453, 5464564, 3452423, 234242, 63453, 5464564, 3452423, 234242, 63453, 5464564, 3452423, 234242, 63453, 5464564, 3452423, 234242, 63453, 5464564, 3452423, 234242, 63453, 5464564, 3452423, 234242, 63453, 5464564, 3452423, 234242, 63453, 5464564, 3452423, 234242, 63453, 5464564, 3452423234242, 63453, 5464564, 3452423, 234242, 63453, 5464564, 3452423, 234242, 63453, 5464564, 3452423, 234242, 63453, 5464564, 3452423, 234242, 63453, 5464564, 3452423, 234242, 63453, 5464564, 3452423, 234242, 63453, 5464564, 3452423, 234242, 63453, 5464564, 3452423, 234242, 63453, 5464564, 3452423, 234242, 63453, 5464564, 3452423, 234242, 63453, 5464564, 3452423, 234242, 63453, 5464564, 3452423, 234242, 63453, 5464564, 3452423]\n",
    "s.hammingDistance(A)\n",
    "A[:10]"
   ]
  },
  {
   "cell_type": "code",
   "execution_count": 22,
   "metadata": {},
   "outputs": [
    {
     "name": "stdout",
     "output_type": "stream",
     "text": [
      "110\n",
      "10\n"
     ]
    }
   ],
   "source": [
    "a = bin(6)[2:]\n",
    "b = bin(4)[2:]\n",
    "\n",
    "print(a)\n",
    "\n",
    "\n",
    "y = int(a,2) ^ int(b,2)\n",
    "print('{0:b}'.format(y))"
   ]
  },
  {
   "cell_type": "code",
   "execution_count": 23,
   "metadata": {},
   "outputs": [
    {
     "data": {
      "text/plain": [
       "2"
      ]
     },
     "execution_count": 23,
     "metadata": {},
     "output_type": "execute_result"
    }
   ],
   "source": [
    "6 ^ 4"
   ]
  },
  {
   "cell_type": "code",
   "execution_count": 33,
   "metadata": {},
   "outputs": [
    {
     "data": {
      "text/plain": [
       "1"
      ]
     },
     "execution_count": 33,
     "metadata": {},
     "output_type": "execute_result"
    }
   ],
   "source": [
    "sum([int(x) for x in bin(2 ^ 6)[2:]])"
   ]
  },
  {
   "cell_type": "code",
   "execution_count": 32,
   "metadata": {},
   "outputs": [
    {
     "data": {
      "text/plain": [
       "2"
      ]
     },
     "execution_count": 32,
     "metadata": {},
     "output_type": "execute_result"
    }
   ],
   "source": [
    "mystr = bin(2 ^ 4)[2:]\n",
    "mysum = 0\n",
    "for i in mystr:\n",
    "    mysum+= int(i)\n",
    "mysum"
   ]
  },
  {
   "cell_type": "code",
   "execution_count": 36,
   "metadata": {},
   "outputs": [
    {
     "data": {
      "text/plain": [
       "'1001'"
      ]
     },
     "execution_count": 36,
     "metadata": {},
     "output_type": "execute_result"
    }
   ],
   "source": [
    "bin(9)[2:]"
   ]
  },
  {
   "cell_type": "code",
   "execution_count": null,
   "metadata": {},
   "outputs": [],
   "source": []
  }
 ],
 "metadata": {
  "kernelspec": {
   "display_name": "Python 3",
   "language": "python",
   "name": "python3"
  },
  "language_info": {
   "codemirror_mode": {
    "name": "ipython",
    "version": 3
   },
   "file_extension": ".py",
   "mimetype": "text/x-python",
   "name": "python",
   "nbconvert_exporter": "python",
   "pygments_lexer": "ipython3",
   "version": "3.6.4"
  }
 },
 "nbformat": 4,
 "nbformat_minor": 2
}

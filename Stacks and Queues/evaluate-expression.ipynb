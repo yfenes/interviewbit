{
 "cells": [
  {
   "cell_type": "code",
   "execution_count": 2,
   "metadata": {},
   "outputs": [
    {
     "data": {
      "text/plain": [
       "6"
      ]
     },
     "execution_count": 2,
     "metadata": {},
     "output_type": "execute_result"
    }
   ],
   "source": [
    "class Solution:\n",
    "    # @param A : list of strings\n",
    "    # @return an integer\n",
    "    def evalRPN(self, A):\n",
    "        stack = []\n",
    "        operants = [\"+\",\"-\",\"*\",\"/\"]\n",
    "        for i in range(len(A)):\n",
    "            if A[i] in operants:\n",
    "                b = int(stack.pop())\n",
    "                a = int(stack.pop())\n",
    "                if A[i] == \"+\":\n",
    "                    stack.append(a+b)\n",
    "                elif A[i] == \"-\":\n",
    "                    stack.append(a-b)\n",
    "                elif A[i] == \"*\":\n",
    "                    stack.append(a*b)\n",
    "                elif A[i] == \"/\":\n",
    "                    stack.append(int(a/b))\n",
    "            else:\n",
    "                stack.append(A[i])\n",
    "        return stack.pop()\n",
    "        \n",
    "s = Solution()\n",
    "A = [\"2\", \"1\", \"+\", \"3\", \"*\"]\n",
    "A = [\"4\", \"13\", \"5\", \"/\", \"+\"]\n",
    "s.evalRPN(A)"
   ]
  },
  {
   "cell_type": "code",
   "execution_count": null,
   "metadata": {},
   "outputs": [],
   "source": []
  }
 ],
 "metadata": {
  "kernelspec": {
   "display_name": "Python 3",
   "language": "python",
   "name": "python3"
  },
  "language_info": {
   "codemirror_mode": {
    "name": "ipython",
    "version": 3
   },
   "file_extension": ".py",
   "mimetype": "text/x-python",
   "name": "python",
   "nbconvert_exporter": "python",
   "pygments_lexer": "ipython3",
   "version": "3.6.4"
  }
 },
 "nbformat": 4,
 "nbformat_minor": 2
}

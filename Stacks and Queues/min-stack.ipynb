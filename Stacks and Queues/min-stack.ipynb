{
 "cells": [
  {
   "cell_type": "code",
   "execution_count": 3,
   "metadata": {},
   "outputs": [],
   "source": [
    "'''\n",
    "Q: What should getMin() do on empty stack? \n",
    "A: In this case, return -1.\n",
    "\n",
    "Q: What should pop do on empty stack? \n",
    "A: In this case, nothing. \n",
    "\n",
    "Q: What should top() do on empty stack?\n",
    "A: In this case, return -1\n",
    "'''\n",
    "\n",
    "class MinStack:\n",
    "    def __init__(self):\n",
    "        self.stack = []\n",
    "        self.minstack = []\n",
    "    # @param x, an integer\n",
    "    # @return an integer\n",
    "    def push(self, x):\n",
    "        self.stack.append(x)\n",
    "        if self.minstack != []:\n",
    "            self.minstack.append(min(x,self.minstack[-1]))\n",
    "        else:\n",
    "            self.minstack.append(x)\n",
    "        return x\n",
    "\n",
    "    # @return nothing\n",
    "    def pop(self):\n",
    "        if self.stack != []:\n",
    "            self.stack.pop()\n",
    "            self.minstack.pop()\n",
    "\n",
    "    # @return an integer\n",
    "    def top(self):\n",
    "        if self.stack != []:\n",
    "            return self.stack[-1]\n",
    "        else:\n",
    "            return -1\n",
    "\n",
    "    # @return an integer\n",
    "    def getMin(self):\n",
    "        if self.minstack != []:\n",
    "            return self.minstack[-1]\n",
    "        else:\n",
    "            return -1\n",
    "        \n"
   ]
  },
  {
   "cell_type": "code",
   "execution_count": null,
   "metadata": {},
   "outputs": [],
   "source": [
    "\n"
   ]
  }
 ],
 "metadata": {
  "kernelspec": {
   "display_name": "Python 2",
   "language": "python",
   "name": "python2"
  },
  "language_info": {
   "codemirror_mode": {
    "name": "ipython",
    "version": 2
   },
   "file_extension": ".py",
   "mimetype": "text/x-python",
   "name": "python",
   "nbconvert_exporter": "python",
   "pygments_lexer": "ipython2",
   "version": "2.7.14"
  }
 },
 "nbformat": 4,
 "nbformat_minor": 2
}

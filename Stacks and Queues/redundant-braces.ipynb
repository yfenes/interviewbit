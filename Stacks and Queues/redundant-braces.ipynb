{
 "cells": [
  {
   "cell_type": "code",
   "execution_count": 19,
   "metadata": {},
   "outputs": [
    {
     "data": {
      "text/plain": [
       "1"
      ]
     },
     "execution_count": 19,
     "metadata": {},
     "output_type": "execute_result"
    }
   ],
   "source": [
    "class Solution:\n",
    "    # @param A : string\n",
    "    # @return an integer\n",
    "    def braces(self, A):\n",
    "        stack = []\n",
    "        operants = [\"+\",\"-\",\"*\",\"/\"]\n",
    "        for i in range(len(A)):\n",
    "            if A[i] == \"(\":\n",
    "                stack.append(\"(\")\n",
    "            elif A[i] == \")\":\n",
    "                # If there is an operant between two braces\n",
    "                # that's ok!\n",
    "                if stack[-1] in operants:\n",
    "                    stack.pop()\n",
    "                    stack.pop()\n",
    "                # If there isn't any operant between two braces\n",
    "                # then there is a redundancy.\n",
    "                else:\n",
    "                    return 1\n",
    "            elif A[i] in operants:\n",
    "                # If no braces, it is ok\n",
    "                if stack == []:\n",
    "                    pass\n",
    "                # Doesn't matter how many operations\n",
    "                # between two braces\n",
    "                elif stack[-1] not in operants:\n",
    "                    stack.append(A[i])\n",
    "        \n",
    "        return 0\n",
    "    \n",
    "A = \"(a+(a+b+c))\"\n",
    "A = \"(a*b)+(b*(d+(a)))\"\n",
    "s = Solution()\n",
    "s.braces(A)"
   ]
  },
  {
   "cell_type": "code",
   "execution_count": null,
   "metadata": {},
   "outputs": [],
   "source": []
  }
 ],
 "metadata": {
  "kernelspec": {
   "display_name": "Python 3",
   "language": "python",
   "name": "python3"
  },
  "language_info": {
   "codemirror_mode": {
    "name": "ipython",
    "version": 3
   },
   "file_extension": ".py",
   "mimetype": "text/x-python",
   "name": "python",
   "nbconvert_exporter": "python",
   "pygments_lexer": "ipython3",
   "version": "3.6.4"
  }
 },
 "nbformat": 4,
 "nbformat_minor": 2
}

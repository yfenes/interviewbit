{
 "cells": [
  {
   "cell_type": "code",
   "execution_count": 57,
   "metadata": {},
   "outputs": [
    {
     "data": {
      "text/plain": [
       "'21'"
      ]
     },
     "execution_count": 57,
     "metadata": {},
     "output_type": "execute_result"
    }
   ],
   "source": [
    "class Solution:\n",
    "    # @param A : integer\n",
    "    # @return a strings\n",
    "    def countAndSay(self, A):\n",
    "        ###############################################\n",
    "        ######## NUMBER OF LINES CAN BE REDUCED #######\n",
    "        ###############################################\n",
    "        cur = ['1']\n",
    "        if A == 1:\n",
    "            return ''.join(cur)\n",
    "\n",
    "        for i in range(1,A):\n",
    "            #print(cur)\n",
    "            j = 0\n",
    "            letter, l_count = cur[j], 0\n",
    "            new_word = []\n",
    "            while(j<len(cur)):\n",
    "                \n",
    "                if cur[j]==letter:\n",
    "                    l_count += 1\n",
    "                    if j==len(cur)-1:\n",
    "                        new_word = self.helper(new_word,l_count,letter)\n",
    "                        \n",
    "                else:\n",
    "                    if j==len(cur)-1:\n",
    "                        new_word = self.helper(new_word,l_count,letter)\n",
    "                        new_word = self.helper(new_word,1,cur[-1])\n",
    "                    else:\n",
    "                        new_word = self.helper(new_word,l_count,letter)\n",
    "                        \n",
    "                    letter = cur[j]\n",
    "                    l_count = 1\n",
    "                j+=1\n",
    "            #print(i, new_word)\n",
    "            cur = new_word\n",
    "            \n",
    "        return ''.join(cur)\n",
    "    \n",
    "    def helper(self,new_word,l_count,letter):\n",
    "        new_word.append(str(l_count))\n",
    "        new_word.append(letter)\n",
    "        return new_word\n",
    "    \n",
    "s = Solution()\n",
    "A = 3\n",
    "s.countAndSay(A)"
   ]
  },
  {
   "cell_type": "code",
   "execution_count": null,
   "metadata": {},
   "outputs": [],
   "source": []
  }
 ],
 "metadata": {
  "kernelspec": {
   "display_name": "Python 3",
   "language": "python",
   "name": "python3"
  },
  "language_info": {
   "codemirror_mode": {
    "name": "ipython",
    "version": 3
   },
   "file_extension": ".py",
   "mimetype": "text/x-python",
   "name": "python",
   "nbconvert_exporter": "python",
   "pygments_lexer": "ipython3",
   "version": "3.6.4"
  }
 },
 "nbformat": 4,
 "nbformat_minor": 2
}

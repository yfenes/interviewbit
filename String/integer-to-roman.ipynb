{
 "cells": [
  {
   "cell_type": "code",
   "execution_count": 5,
   "metadata": {},
   "outputs": [
    {
     "data": {
      "text/plain": [
       "'XX'"
      ]
     },
     "execution_count": 5,
     "metadata": {},
     "output_type": "execute_result"
    }
   ],
   "source": [
    "class Solution:\n",
    "    # @param A : string\n",
    "    # @return an integer\n",
    "    def intToRoman(self, A):\n",
    "        r2i = {}\n",
    "        r2i[(1,1)] = 'I'\n",
    "        r2i[(1,5)] = 'V'\n",
    "        r2i[(2,1)] = 'X'\n",
    "        r2i[(2,5)] = 'L'\n",
    "        r2i[(3,1)] = 'C'\n",
    "        r2i[(3,5)] = 'D'\n",
    "        r2i[(4,1)] = 'M'\n",
    "        \n",
    "        \n",
    "        res = ''\n",
    "        i = 1\n",
    "        while A>0:\n",
    "            if A%10 == 9:\n",
    "                res = r2i[(i,1)] + r2i[(i+1,1)] + res\n",
    "            elif A%5 == 4:\n",
    "                res = r2i[(i,1)] + r2i[(i,5)] + res\n",
    "            else:\n",
    "                for j in range(A%5):\n",
    "                    res = r2i[(i,1)] + res\n",
    "                if A%10 >= 5:\n",
    "                    res = r2i[(i,5)] + res\n",
    "            \n",
    "            \n",
    "            A = int(A/10)\n",
    "            i+= 1\n",
    "            \n",
    "        return res\n",
    "        \n",
    "        \n",
    "        \n",
    "        \n",
    "        \n",
    "s = Solution()\n",
    "A = \"XIV\"\n",
    "A = \"XX\"\n",
    "A = 20\n",
    "s.intToRoman(A)"
   ]
  },
  {
   "cell_type": "code",
   "execution_count": null,
   "metadata": {},
   "outputs": [],
   "source": []
  }
 ],
 "metadata": {
  "kernelspec": {
   "display_name": "Python 2",
   "language": "python",
   "name": "python2"
  },
  "language_info": {
   "codemirror_mode": {
    "name": "ipython",
    "version": 2
   },
   "file_extension": ".py",
   "mimetype": "text/x-python",
   "name": "python",
   "nbconvert_exporter": "python",
   "pygments_lexer": "ipython2",
   "version": "2.7.14"
  }
 },
 "nbformat": 4,
 "nbformat_minor": 2
}

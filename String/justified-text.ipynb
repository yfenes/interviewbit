{
 "cells": [
  {
   "cell_type": "code",
   "execution_count": 43,
   "metadata": {},
   "outputs": [
    {
     "data": {
      "text/plain": [
       "['What must be', 'shall be.   ']"
      ]
     },
     "execution_count": 43,
     "metadata": {},
     "output_type": "execute_result"
    }
   ],
   "source": [
    "class Solution:\n",
    "    # @param A : list of strings\n",
    "    # @param B : integer\n",
    "    # @return a list of strings\n",
    "    def fullJustify(self, A, B):\n",
    "        \n",
    "        if len(A)==1:\n",
    "            return A\n",
    "        \n",
    "        w_ind = 1\n",
    "        line = A[0]\n",
    "        lines = []\n",
    "        n_word = 1\n",
    "        n_words_in_lines = []\n",
    "        \n",
    "        # Find words in lines\n",
    "        while w_ind < len(A):\n",
    "            \n",
    "            # if word is okay to add to line\n",
    "            if len(line) + 1 + len(A[w_ind]) <= B:\n",
    "                    line += ' ' + A[w_ind]\n",
    "                    n_word += 1\n",
    "            # if word goes to next lines\n",
    "            else:\n",
    "                lines.append(line)\n",
    "                line = A[w_ind]\n",
    "                n_words_in_lines.append(n_word)\n",
    "                n_word = 1\n",
    "                \n",
    "            w_ind += 1\n",
    "            \n",
    "        lines.append(line)\n",
    "        n_words_in_lines.append(n_word)\n",
    "        \n",
    "        # Add appropriate spaces to the lines\n",
    "        for ind in range(len(lines)):\n",
    "            line = lines[ind]\n",
    "            \n",
    "            num_spaces = n_words_in_lines[ind]-1\n",
    "            # Edge case, only one word in the line\n",
    "            if num_spaces == 0:\n",
    "                evenly_space_to_add = -1\n",
    "                while len(line)<B:\n",
    "                    line += ' '\n",
    "            else:\n",
    "                evenly_space_to_add = int((B-len(line))/num_spaces)\n",
    "            \n",
    "            \n",
    "            # if not last line\n",
    "            if ind!=len(lines)-1:\n",
    "                c_ind = 1\n",
    "                # Do even spacing\n",
    "                while c_ind < len(line):\n",
    "                    if line[c_ind]== ' ' and line[c_ind-1] != ' ':\n",
    "                        for _ in range(evenly_space_to_add):\n",
    "                            line = line[:c_ind] + ' ' + line[c_ind:]\n",
    "                    c_ind +=1\n",
    "                \n",
    "                # Do residual spacing\n",
    "                c_ind = 1\n",
    "                while len(line)<B:\n",
    "                    if line[c_ind]== ' ' and line[c_ind-1] != ' ':\n",
    "                        line = line[:c_ind] + ' ' + line[c_ind:]\n",
    "                    c_ind +=1\n",
    "            # if last line\n",
    "            else:\n",
    "                while len(line)<B:\n",
    "                    line += ' '\n",
    "                    \n",
    "            lines[ind] = line\n",
    "        return lines\n",
    "        \n",
    "s = Solution()\n",
    "\n",
    "A = [\"This\", \"is\", \"an\", \"example\", \"of\", \"text\", \"justification.\"]\n",
    "B = 16\n",
    "\n",
    "A = [ \"What\", \"must\", \"be\", \"shall\", \"be.\" ]\n",
    "B = 12\n",
    "s.fullJustify(A,B)"
   ]
  },
  {
   "cell_type": "code",
   "execution_count": null,
   "metadata": {},
   "outputs": [],
   "source": []
  },
  {
   "cell_type": "code",
   "execution_count": null,
   "metadata": {},
   "outputs": [],
   "source": []
  }
 ],
 "metadata": {
  "kernelspec": {
   "display_name": "Python 3",
   "language": "python",
   "name": "python3"
  },
  "language_info": {
   "codemirror_mode": {
    "name": "ipython",
    "version": 3
   },
   "file_extension": ".py",
   "mimetype": "text/x-python",
   "name": "python",
   "nbconvert_exporter": "python",
   "pygments_lexer": "ipython3",
   "version": "3.6.4"
  }
 },
 "nbformat": 4,
 "nbformat_minor": 2
}

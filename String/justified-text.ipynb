{
 "cells": [
  {
   "cell_type": "code",
   "execution_count": 22,
   "metadata": {},
   "outputs": [
    {
     "name": "stdout",
     "output_type": "stream",
     "text": [
      "What must be\n",
      "['shall', 'be.']\n"
     ]
    },
    {
     "data": {
      "text/plain": [
       "['What must be', 'shall be.   ']"
      ]
     },
     "execution_count": 22,
     "metadata": {},
     "output_type": "execute_result"
    }
   ],
   "source": [
    "class Solution:\n",
    "    # @param A : list of strings\n",
    "    # @param B : integer\n",
    "    # @return a list of strings\n",
    "    def fullJustify(self, A, B):\n",
    "        if A == []:\n",
    "            return A\n",
    "        if len(A) == 1:\n",
    "            while len(A[0])<B:\n",
    "                A[0] = A[0] + ' '\n",
    "            return A\n",
    "        \n",
    "        tot_char = len(A)-1\n",
    "        for i in A:\n",
    "            tot_char += len(i)\n",
    "        if tot_char<=B:\n",
    "            return [' '.join(A)]\n",
    "        \n",
    "        # Lines and number of spaces (words - 1) for each line.\n",
    "        res, n_spaces = self.defineLines(A,B)\n",
    "        \n",
    "        for i in range(len(res)-1):\n",
    "            line_letters = len(res[i]) - n_spaces[i]\n",
    "            \n",
    "            # Add constant spaces to each seperation evenly in lines\n",
    "            j = 1\n",
    "            while j<len(res[i]):\n",
    "                if res[i][j] == ' ' and res[i][j-1] != ' ':\n",
    "                    space_to_each = int((B-line_letters)/n_spaces[i])\n",
    "                    for space in range(space_to_each-1):\n",
    "                        res[i] = res[i][:j] + ' ' + res[i][j:]\n",
    "                j+=1\n",
    "            \n",
    "            # Add residual spaces which makes the line uneven\n",
    "            if len(res[i])<B:\n",
    "                for j in range(1,len(res[i])):\n",
    "                    if res[i][j] == ' ' and res[i][j-1] != ' ':\n",
    "                        res[i] = res[i][:j] + ' ' + res[i][j:]\n",
    "                    if len(res[i])>=B:\n",
    "                        break\n",
    "        \n",
    "        # if last line is short\n",
    "        if len(res)>1 and len(res[-1]) < B:\n",
    "            res[-1] = ' '.join(res[-1])\n",
    "            last_spaces = B-len(res[-1])\n",
    "            \n",
    "            for i in range(last_spaces):\n",
    "                res[-1] = res[-1] + ' '\n",
    "            \n",
    "        \n",
    "        return res\n",
    "    \n",
    "    def defineLines(self, A, B):\n",
    "        res = []\n",
    "        n_spaces = []\n",
    "        \n",
    "        cur_line = 0\n",
    "        last = 0\n",
    "        for i in range(len(A)):\n",
    "            if cur_line + len(A[i]) <= B:\n",
    "                cur_line += len(A[i]) + 1\n",
    "            else:\n",
    "                temp = ''\n",
    "                for j in range(last,i):\n",
    "                    temp += A[j] + ' '\n",
    "                    \n",
    "                res.append(temp[:-1])\n",
    "                n_spaces.append(i-last-1)\n",
    "                cur_line = 0\n",
    "                last = i\n",
    "                \n",
    "        if last!=len(A)-1:\n",
    "            res.append(A[last:])\n",
    "            n_spaces.append(0)\n",
    "                \n",
    "        return res, n_spaces\n",
    "        \n",
    "        \n",
    "s = Solution()\n",
    "A = [\"This\", \"is\", \"an\", \"example\", \"of\", \"text\", \"justification.\"]\n",
    "A = [ \"bykk\", \"duvqfuf\", \"oaizm\", \"ggxcf\", \"yrfeuozqwn\", \"hbfm\", \"e\", \"hadqffvuw\", \"hdjjlu\", \"tpi\", \"lt\", \"qfv\" ]\n",
    "A = [ \"What\", \"must\", \"be\", \"shall\", \"be.\" ]\n",
    "B = 12\n",
    "#B = 80\n",
    "#B = 16\n",
    "#A = ['']\n",
    "s.fullJustify(A,B)\n"
   ]
  },
  {
   "cell_type": "code",
   "execution_count": 17,
   "metadata": {},
   "outputs": [
    {
     "data": {
      "text/plain": [
       "'asd fgh    ert         '"
      ]
     },
     "execution_count": 17,
     "metadata": {},
     "output_type": "execute_result"
    }
   ],
   "source": [
    "' '.join(['asd','fgh   ','ert         '])"
   ]
  },
  {
   "cell_type": "code",
   "execution_count": null,
   "metadata": {},
   "outputs": [],
   "source": []
  },
  {
   "cell_type": "code",
   "execution_count": null,
   "metadata": {},
   "outputs": [],
   "source": []
  }
 ],
 "metadata": {
  "kernelspec": {
   "display_name": "Python 3",
   "language": "python",
   "name": "python3"
  },
  "language_info": {
   "codemirror_mode": {
    "name": "ipython",
    "version": 3
   },
   "file_extension": ".py",
   "mimetype": "text/x-python",
   "name": "python",
   "nbconvert_exporter": "python",
   "pygments_lexer": "ipython3",
   "version": "3.6.4"
  }
 },
 "nbformat": 4,
 "nbformat_minor": 2
}

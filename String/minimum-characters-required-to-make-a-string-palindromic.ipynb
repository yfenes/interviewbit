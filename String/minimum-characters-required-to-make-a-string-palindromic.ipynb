{
 "cells": [
  {
   "cell_type": "code",
   "execution_count": 9,
   "metadata": {},
   "outputs": [
    {
     "data": {
      "text/plain": [
       "14"
      ]
     },
     "execution_count": 9,
     "metadata": {},
     "output_type": "execute_result"
    }
   ],
   "source": [
    "class Solution:\n",
    "    # @param A : string\n",
    "    # @return an integer\n",
    "    def solve(self, A):\n",
    "        if len(A)==0 or len(A)==1:\n",
    "            return 0\n",
    "        \n",
    "        max_palindrom = 1\n",
    "        \n",
    "        for i in range(len(A)):\n",
    "            if self.isPalindrom(A[:i+1]):\n",
    "                max_palindrom = i+1\n",
    "                    \n",
    "        return len(A)-max_palindrom\n",
    "        \n",
    "    def isPalindrom(self,word):\n",
    "        N = len(word)\n",
    "        for i in range(int(N/2)):\n",
    "            if word[i] != word[N-1-i]:\n",
    "                return False\n",
    "        return True\n",
    "        \n",
    "s = Solution()\n",
    "A = 'AACECAAAA'\n",
    "A = 'dfklgjdfkgfdjlg'\n",
    "s.solve(A)"
   ]
  },
  {
   "cell_type": "code",
   "execution_count": null,
   "metadata": {},
   "outputs": [],
   "source": []
  }
 ],
 "metadata": {
  "kernelspec": {
   "display_name": "Python 3",
   "language": "python",
   "name": "python3"
  },
  "language_info": {
   "codemirror_mode": {
    "name": "ipython",
    "version": 3
   },
   "file_extension": ".py",
   "mimetype": "text/x-python",
   "name": "python",
   "nbconvert_exporter": "python",
   "pygments_lexer": "ipython3",
   "version": "3.6.4"
  }
 },
 "nbformat": 4,
 "nbformat_minor": 2
}

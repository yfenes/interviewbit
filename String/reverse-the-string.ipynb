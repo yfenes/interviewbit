{
 "cells": [
  {
   "cell_type": "code",
   "execution_count": 20,
   "metadata": {},
   "outputs": [
    {
     "name": "stdout",
     "output_type": "stream",
     "text": [
      "iwfcqq\n",
      "igjgip\n",
      "myq\n",
      "sn\n",
      "dqmy\n",
      "qfho\n",
      "sswz\n",
      "ouhsuhf\n",
      "kxorifrhubk\n",
      "jsx\n",
      "ulc\n",
      "osdt\n"
     ]
    },
    {
     "data": {
      "text/plain": [
       "'iwfcqq igjgip myq sn dqmy qfho sswz ouhsuhf kxorifrhubk jsx ulc osdt fwbpudnbrozzifml'"
      ]
     },
     "execution_count": 20,
     "metadata": {},
     "output_type": "execute_result"
    }
   ],
   "source": [
    "class Solution:\n",
    "    # @param A : string\n",
    "    # @return string\n",
    "    def reverseWords(self, A):\n",
    "        right = len(A)\n",
    "        left = len(A)-1\n",
    "        res = ''\n",
    "        \n",
    "        if not ' ' in A:\n",
    "            return A\n",
    "        \n",
    "        while(left>=0):\n",
    "            if A[left]!=' ':\n",
    "                left -= 1\n",
    "            else:\n",
    "                #print(A[left+1:right])\n",
    "                res += A[left+1:right]\n",
    "                res += ' '\n",
    "                right = left\n",
    "                left -= 1\n",
    "        \n",
    "        for i in range(len(A)):\n",
    "            if A[i]==' ':\n",
    "                res += A[:i]\n",
    "                break\n",
    "        \n",
    "        return res\n",
    "        \n",
    "s = Solution()\n",
    "A = \"the sky is blue\"\n",
    "A = \"j\"\n",
    "A = \"fwbpudnbrozzifml osdt ulc jsx kxorifrhubk ouhsuhf sswz qfho dqmy sn myq igjgip iwfcqq\"\n",
    "s.reverseWords(A)"
   ]
  },
  {
   "cell_type": "code",
   "execution_count": null,
   "metadata": {},
   "outputs": [],
   "source": []
  }
 ],
 "metadata": {
  "kernelspec": {
   "display_name": "Python 2",
   "language": "python",
   "name": "python2"
  },
  "language_info": {
   "codemirror_mode": {
    "name": "ipython",
    "version": 2
   },
   "file_extension": ".py",
   "mimetype": "text/x-python",
   "name": "python",
   "nbconvert_exporter": "python",
   "pygments_lexer": "ipython2",
   "version": "2.7.14"
  }
 },
 "nbformat": 4,
 "nbformat_minor": 2
}

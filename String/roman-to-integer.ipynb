{
 "cells": [
  {
   "cell_type": "code",
   "execution_count": 5,
   "metadata": {},
   "outputs": [
    {
     "data": {
      "text/plain": [
       "20"
      ]
     },
     "execution_count": 5,
     "metadata": {},
     "output_type": "execute_result"
    }
   ],
   "source": [
    "class Solution:\n",
    "    # @param A : string\n",
    "    # @return an integer\n",
    "    def romanToInt(self, A):\n",
    "        r2i = {}\n",
    "        r2i['I'] = 1\n",
    "        r2i['V'] = 5\n",
    "        r2i['X'] = 10\n",
    "        r2i['L'] = 50\n",
    "        r2i['C'] = 100\n",
    "        r2i['D'] = 500\n",
    "        r2i['M'] = 1000\n",
    "        \n",
    "        N = len(A)\n",
    "        if N == 1:\n",
    "            return r2i[A[0]]\n",
    "        \n",
    "        res = 0\n",
    "        for i in range(N-2):\n",
    "            if r2i[A[i]] < r2i[A[i+1]] or r2i[A[i]] < r2i[A[i+2]]:\n",
    "                res -= r2i[A[i]]\n",
    "            else:\n",
    "                res += r2i[A[i]]\n",
    "        \n",
    "        if r2i[A[-2]] < r2i[A[-1]]:\n",
    "            res -= r2i[A[-2]]\n",
    "        else:\n",
    "            res += r2i[A[-2]]\n",
    "        \n",
    "        res += r2i[A[-1]]\n",
    "        return res\n",
    "        \n",
    "        \n",
    "s = Solution()\n",
    "A = \"XIV\"\n",
    "A = \"XX\"\n",
    "s.romanToInt(A)"
   ]
  },
  {
   "cell_type": "code",
   "execution_count": 2,
   "metadata": {},
   "outputs": [],
   "source": [
    "for i in range(-1):\n",
    "    print(i)"
   ]
  },
  {
   "cell_type": "code",
   "execution_count": null,
   "metadata": {},
   "outputs": [],
   "source": []
  }
 ],
 "metadata": {
  "kernelspec": {
   "display_name": "Python 3",
   "language": "python",
   "name": "python3"
  },
  "language_info": {
   "codemirror_mode": {
    "name": "ipython",
    "version": 3
   },
   "file_extension": ".py",
   "mimetype": "text/x-python",
   "name": "python",
   "nbconvert_exporter": "python",
   "pygments_lexer": "ipython3",
   "version": "3.6.4"
  }
 },
 "nbformat": 4,
 "nbformat_minor": 2
}

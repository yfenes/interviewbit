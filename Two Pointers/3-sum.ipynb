{
 "cells": [
  {
   "cell_type": "code",
   "execution_count": 62,
   "metadata": {},
   "outputs": [
    {
     "data": {
      "text/plain": [
       "106"
      ]
     },
     "execution_count": 62,
     "metadata": {},
     "output_type": "execute_result"
    }
   ],
   "source": [
    "class Solution:\n",
    "    # @param A : list of integers\n",
    "    # @param B : integer\n",
    "    # @return an integer\n",
    "    def threeSumClosest(self, A, B):\n",
    "        A.sort()\n",
    "        #print(A)\n",
    "        N = len(A)\n",
    "        closest = A[0]+A[1]+A[2]-B\n",
    "        \n",
    "        for x in range(N-2):\n",
    "            y, z = x+1, N-1\n",
    "            \n",
    "            while y<z:\n",
    "                cur_sum = A[x]+A[y]+A[z]-B\n",
    "                \n",
    "                if cur_sum == 0:\n",
    "                    return B\n",
    "                elif abs(cur_sum) < abs(closest):\n",
    "                    closest = cur_sum\n",
    "                \n",
    "                if cur_sum < 0:\n",
    "                    y += 1\n",
    "                else:\n",
    "                    z -= 1\n",
    "            \n",
    "        return closest + B\n",
    "        \n",
    "        \n",
    "        \n",
    "s = Solution()\n",
    "S = [-1, 2, 1, -4, 4]\n",
    "target = 1\n",
    "\n",
    "S = [ -4, -8, -10, -9, -1, 21, -2, 0, -8, -2 ]\n",
    "target = 0\n",
    "\n",
    "# expected 0\n",
    "S = [10, -4, -8, -10, -9, -1, 1, -2, 0, -8, -2]\n",
    "target = 0\n",
    "\n",
    "S = [10, -4, -8, -10, -9, -1, 1, -2, 0, -8, -2]\n",
    "target = -24\n",
    "\n",
    "S = [-123,-12,-2,7,9,222]\n",
    "target = 105\n",
    "\n",
    "\n",
    "s.threeSumClosest(S,target)"
   ]
  },
  {
   "cell_type": "code",
   "execution_count": null,
   "metadata": {},
   "outputs": [],
   "source": []
  }
 ],
 "metadata": {
  "kernelspec": {
   "display_name": "Python 3",
   "language": "python",
   "name": "python3"
  },
  "language_info": {
   "codemirror_mode": {
    "name": "ipython",
    "version": 3
   },
   "file_extension": ".py",
   "mimetype": "text/x-python",
   "name": "python",
   "nbconvert_exporter": "python",
   "pygments_lexer": "ipython3",
   "version": "3.6.4"
  }
 },
 "nbformat": 4,
 "nbformat_minor": 2
}

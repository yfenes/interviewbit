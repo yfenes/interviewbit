{
 "cells": [
  {
   "cell_type": "code",
   "execution_count": 25,
   "metadata": {},
   "outputs": [
    {
     "data": {
      "text/plain": [
       "[-4, -2, -2, 3, 4, 5, 6, 7, 10, 12, 13]"
      ]
     },
     "execution_count": 25,
     "metadata": {},
     "output_type": "execute_result"
    }
   ],
   "source": [
    "\n",
    "class Solution:\n",
    "    # @param A : list of integers\n",
    "    # @param B : list of integers\n",
    "    def merge(self, A, B):\n",
    "        \n",
    "        indA = 0\n",
    "        indB = 0\n",
    "        \n",
    "        while indA<len(A) and indB<len(B):\n",
    "            if A[indA] < B[indB]:\n",
    "                indA+=1\n",
    "            else:\n",
    "                A.insert(indA,B[indB])\n",
    "                indB+=1\n",
    "                indA+=1\n",
    "        \n",
    "        if indA != len(A)-1:\n",
    "            A.extend(B[indB:])\n",
    "            \n",
    "        return A\n",
    "        \n",
    "\n",
    "A = [1, 5, 8]\n",
    "B = [6, 9]\n",
    "A = [ -4, 3 ,4,5,6,7]\n",
    "B = [ -2, -2, 10,12,13]\n",
    "s = Solution()\n",
    "s.merge(A,B)"
   ]
  },
  {
   "cell_type": "code",
   "execution_count": 3,
   "metadata": {},
   "outputs": [
    {
     "data": {
      "text/plain": [
       "[1, 5, 8, 3, 4, 5, 6]"
      ]
     },
     "execution_count": 3,
     "metadata": {},
     "output_type": "execute_result"
    }
   ],
   "source": [
    "A = [1, 5, 8]\n",
    "A.extend([3,4,5,6])\n",
    "A"
   ]
  },
  {
   "cell_type": "code",
   "execution_count": null,
   "metadata": {},
   "outputs": [],
   "source": []
  }
 ],
 "metadata": {
  "kernelspec": {
   "display_name": "Python 2",
   "language": "python",
   "name": "python2"
  },
  "language_info": {
   "codemirror_mode": {
    "name": "ipython",
    "version": 2
   },
   "file_extension": ".py",
   "mimetype": "text/x-python",
   "name": "python",
   "nbconvert_exporter": "python",
   "pygments_lexer": "ipython2",
   "version": "2.7.14"
  }
 },
 "nbformat": 4,
 "nbformat_minor": 2
}

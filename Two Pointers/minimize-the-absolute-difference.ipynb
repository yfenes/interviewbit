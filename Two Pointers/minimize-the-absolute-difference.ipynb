{
 "cells": [
  {
   "cell_type": "code",
   "execution_count": 27,
   "metadata": {},
   "outputs": [
    {
     "data": {
      "text/plain": [
       "1"
      ]
     },
     "execution_count": 27,
     "metadata": {},
     "output_type": "execute_result"
    }
   ],
   "source": [
    "class Solution:\n",
    "    # @param A : list of integers\n",
    "    # @param B : list of integers\n",
    "    # @param C : list of integers\n",
    "    # @return an integer\n",
    "    def solve(self, A, B, C):\n",
    "        na = len(A)\n",
    "        nb = len(B)\n",
    "        nc = len(C)\n",
    "        ia = 0\n",
    "        ib = 0\n",
    "        ic = 0\n",
    "        \n",
    "        cur_diff = self.mydiff(A[0],B[0],C[0])\n",
    "        possibles = []\n",
    "        \n",
    "        while(ia<na or ib<nb or ic<nc):\n",
    "            \n",
    "            da = 1000000000000\n",
    "            db = 1000000000000\n",
    "            dc = 1000000000000\n",
    "            \n",
    "            if ia!=na-1:\n",
    "                da = self.mydiff(A[ia+1],B[ib],C[ic])\n",
    "            \n",
    "            if ib!=nb-1:\n",
    "                db = self.mydiff(A[ia],B[ib+1],C[ic])\n",
    "            \n",
    "            if ic!=nc-1:\n",
    "                dc = self.mydiff(A[ia],B[ib],C[ic+1])\n",
    "                \n",
    "            if ia==na-1 and ib==nb-1 and ic==nc-1:\n",
    "                break \n",
    "                \n",
    "            min_of_3 = min(da,db,dc)\n",
    "            \n",
    "            if da == min_of_3:\n",
    "                if da<cur_diff:\n",
    "                    cur_diff = da\n",
    "                ia = min(na-1,ia+1)\n",
    "            elif db == min_of_3:\n",
    "                if db<cur_diff:\n",
    "                    cur_diff = db\n",
    "                ib = min(nb-1,ib+1)\n",
    "            else:\n",
    "                if dc<cur_diff:\n",
    "                    cur_diff = dc\n",
    "                ic = min(nc-1,ic+1)\n",
    "            \n",
    "        return cur_diff\n",
    "    \n",
    "    def mydiff(self,x,y,z):\n",
    "        return abs(max(x,y,z) - min(x,y,z))\n",
    "        \n",
    "A = [ 1, 4, 5, 8, 10 ]\n",
    "B = [ 6, 9, 10 ]\n",
    "C = [ 2, 3, 6, 10 ]\n",
    "\n",
    "\n",
    "A = [ 1, 4, 5, 8, 10 ]\n",
    "B = [ 6, 9, 15 ]\n",
    "C = [ 2, 3, 6, 6 ]\n",
    "    \n",
    "s = Solution()\n",
    "s.solve(A,B,C)"
   ]
  },
  {
   "cell_type": "code",
   "execution_count": null,
   "metadata": {},
   "outputs": [],
   "source": []
  }
 ],
 "metadata": {
  "kernelspec": {
   "display_name": "Python 2",
   "language": "python",
   "name": "python2"
  },
  "language_info": {
   "codemirror_mode": {
    "name": "ipython",
    "version": 2
   },
   "file_extension": ".py",
   "mimetype": "text/x-python",
   "name": "python",
   "nbconvert_exporter": "python",
   "pygments_lexer": "ipython2",
   "version": "2.7.14"
  }
 },
 "nbformat": 4,
 "nbformat_minor": 2
}

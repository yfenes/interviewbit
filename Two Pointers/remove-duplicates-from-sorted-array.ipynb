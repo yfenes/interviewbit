{
 "cells": [
  {
   "cell_type": "code",
   "execution_count": 13,
   "metadata": {},
   "outputs": [
    {
     "data": {
      "text/plain": [
       "3"
      ]
     },
     "execution_count": 13,
     "metadata": {},
     "output_type": "execute_result"
    }
   ],
   "source": [
    "class Solution:\n",
    "    # @param A : list of integers\n",
    "    # @return an integer\n",
    "    def removeDuplicates(self, A):\n",
    "        i = 0\n",
    "        right = 1\n",
    "        count = 0 \n",
    "        while(i<len(A)-1):\n",
    "            right = 1\n",
    "            while(i+right < len(A) and A[i] == A[i+right]):\n",
    "                right +=1\n",
    "                \n",
    "            if right == 1:\n",
    "                i+=1\n",
    "            else:\n",
    "                del A[i:i+right-1]\n",
    "        return len(A)\n",
    "    \n",
    "s = Solution()\n",
    "A = [0,0,0,1,1,2]\n",
    "s.removeDuplicates(A)"
   ]
  },
  {
   "cell_type": "code",
   "execution_count": null,
   "metadata": {},
   "outputs": [],
   "source": []
  }
 ],
 "metadata": {
  "kernelspec": {
   "display_name": "Python 2",
   "language": "python",
   "name": "python2"
  },
  "language_info": {
   "codemirror_mode": {
    "name": "ipython",
    "version": 2
   },
   "file_extension": ".py",
   "mimetype": "text/x-python",
   "name": "python",
   "nbconvert_exporter": "python",
   "pygments_lexer": "ipython2",
   "version": "2.7.14"
  }
 },
 "nbformat": 4,
 "nbformat_minor": 2
}

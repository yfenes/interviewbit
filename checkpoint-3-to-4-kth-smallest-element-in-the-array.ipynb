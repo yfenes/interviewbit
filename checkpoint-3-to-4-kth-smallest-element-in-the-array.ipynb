{
 "cells": [
  {
   "cell_type": "code",
   "execution_count": 1,
   "metadata": {},
   "outputs": [
    {
     "data": {
      "text/plain": [
       "2"
      ]
     },
     "execution_count": 1,
     "metadata": {},
     "output_type": "execute_result"
    }
   ],
   "source": [
    "class Solution:\n",
    "    # @param A : tuple of integers\n",
    "    # @param B : integer\n",
    "    # @return an integer\n",
    "    def kthsmallest(self, A, B):\n",
    "        \n",
    "        import heapq\n",
    "        k = B\n",
    "        firstK = [x * (-1) for x in A[:k]]\n",
    "        heapq.heapify(firstK)\n",
    "\n",
    "        for i in range(k,len(A)):\n",
    "            if -1*A[i] > firstK[0]:\n",
    "                heapq.heappop(firstK)\n",
    "                heapq.heappush(firstK,-1*A[i])\n",
    "        return -1*firstK[0]\n",
    "s = Solution()\n",
    "A = [2, 1, 4, 3, 2]\n",
    "k = 3\n",
    "\n",
    "#A = [ 1 ]\n",
    "#k = 1\n",
    "\n",
    "#A = [ 94, 87, 100, 11, 23, 98, 17, 35, 43, 66, 34, 53, 72, 80, 5, 34, 64, 71, 9, 16, 41, 66, 96 ]\n",
    "#k = 19\n",
    "s.kthsmallest(A,k)"
   ]
  },
  {
   "cell_type": "code",
   "execution_count": null,
   "metadata": {},
   "outputs": [],
   "source": []
  },
  {
   "cell_type": "code",
   "execution_count": null,
   "metadata": {},
   "outputs": [],
   "source": []
  },
  {
   "cell_type": "code",
   "execution_count": null,
   "metadata": {},
   "outputs": [],
   "source": []
  },
  {
   "cell_type": "code",
   "execution_count": null,
   "metadata": {},
   "outputs": [],
   "source": []
  },
  {
   "cell_type": "code",
   "execution_count": null,
   "metadata": {},
   "outputs": [],
   "source": []
  }
 ],
 "metadata": {
  "kernelspec": {
   "display_name": "Python 3",
   "language": "python",
   "name": "python3"
  },
  "language_info": {
   "codemirror_mode": {
    "name": "ipython",
    "version": 3
   },
   "file_extension": ".py",
   "mimetype": "text/x-python",
   "name": "python",
   "nbconvert_exporter": "python",
   "pygments_lexer": "ipython3",
   "version": "3.6.4"
  }
 },
 "nbformat": 4,
 "nbformat_minor": 2
}

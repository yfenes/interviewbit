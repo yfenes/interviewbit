{
 "cells": [
  {
   "cell_type": "code",
   "execution_count": 12,
   "metadata": {},
   "outputs": [
    {
     "name": "stdout",
     "output_type": "stream",
     "text": [
      "(0, 7, 1)\n",
      "(1, 5, 32)\n",
      "(2, 4, 24)\n",
      "(3, 4, 24)\n",
      "(4, 5, 32)\n",
      "(5, 7, 1)\n",
      "(6, 7, 1)\n",
      "(7, 7, 1)\n"
     ]
    },
    {
     "data": {
      "text/plain": [
       "[-1, 32, 24, 24, 32, -1, -1, -1]"
      ]
     },
     "execution_count": 12,
     "metadata": {},
     "output_type": "execute_result"
    }
   ],
   "source": [
    "class Solution:\n",
    "    # @param A : list of integers\n",
    "    # @return a list of integers\n",
    "    def nextGreater(self, A):\n",
    "        #########################################################\n",
    "        ######## I DON'T KNOW IF THIS IS A GOOD SOLUTION ########\n",
    "        #########################################################\n",
    "        if A == []:\n",
    "            return A\n",
    "        elif len(A) == 1:\n",
    "            return [-1]\n",
    "        \n",
    "        l = 0\n",
    "        r = 1\n",
    "        res = []\n",
    "        \n",
    "        while l<len(A):\n",
    "            if A[r] > A[l]:\n",
    "                res.append(A[r])\n",
    "                print(l,r,A[r])\n",
    "                l+=1\n",
    "                r = min(l+1,len(A)-1)\n",
    "            else:\n",
    "                if r == len(A)-1:\n",
    "                    print(l,r,A[r])\n",
    "                    res.append(-1)\n",
    "                    l += 1\n",
    "                    r = min(l+1,len(A)-1)\n",
    "                else:\n",
    "                    r += 1\n",
    "               \n",
    "        return res\n",
    "        \n",
    "        \n",
    "s = Solution()\n",
    "A = [4, 5, 2, 21, 3, 10]\n",
    "# [5, 21, 21, -1, 10,-1]\n",
    "\n",
    "A = [4, 5, 2, 10]\n",
    "# [5, 10, 10, -1]\n",
    "\n",
    "A = [3, 2, 1]\n",
    "# [-1, -1, -1]\n",
    "\n",
    "A = [ 34, 35, 27, 42, 5, 28, 39, 20, 28 ]\n",
    "# exp 35  42  42  -1  28 39  -1  28  -1 \n",
    "\n",
    "A = [ 39, 27, 11, 4, 24, 32, 32, 1 ]\n",
    "#     -1  32  24 24  32  -1  -1 -1\n",
    "\n",
    "s.nextGreater(A)"
   ]
  },
  {
   "cell_type": "code",
   "execution_count": null,
   "metadata": {},
   "outputs": [],
   "source": []
  }
 ],
 "metadata": {
  "kernelspec": {
   "display_name": "Python 2",
   "language": "python",
   "name": "python2"
  },
  "language_info": {
   "codemirror_mode": {
    "name": "ipython",
    "version": 2
   },
   "file_extension": ".py",
   "mimetype": "text/x-python",
   "name": "python",
   "nbconvert_exporter": "python",
   "pygments_lexer": "ipython2",
   "version": "2.7.14"
  }
 },
 "nbformat": 4,
 "nbformat_minor": 2
}

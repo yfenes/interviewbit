{
 "cells": [
  {
   "cell_type": "code",
   "execution_count": 2,
   "metadata": {},
   "outputs": [
    {
     "name": "stdout",
     "output_type": "stream",
     "text": [
      "4\n",
      "2\n",
      "3\n",
      "4\n",
      "5\n"
     ]
    }
   ],
   "source": [
    "# Definition for singly-linked list.\n",
    "class ListNode:\n",
    "    def __init__(self, x):\n",
    "        self.val = x\n",
    "        self.next = None\n",
    "\n",
    "class Solution:\n",
    "    # @param A : head node of linked list\n",
    "    # @return the head node in the linked list\n",
    "    def subtract(self, A):\n",
    "        if A == None or A.next == None:\n",
    "            return A\n",
    "        \n",
    "        head = A\n",
    "        listLen = 0\n",
    "        nodeStack = []\n",
    "        while A:\n",
    "            nodeStack.append(A)\n",
    "            A = A.next\n",
    "            listLen += 1\n",
    "        \n",
    "        A = head\n",
    "        \n",
    "        for i in range(int(listLen/2)):\n",
    "            lastiNode = nodeStack[-i-1]\n",
    "            A.val = lastiNode.val - A.val\n",
    "            A = A.next\n",
    "            \n",
    "        return head\n",
    "        \n",
    "        \n",
    "\n",
    "B0 = ListNode(1)\n",
    "B1 = ListNode(2)\n",
    "B2 = ListNode(3)\n",
    "B3 = ListNode(4)\n",
    "B4 = ListNode(5)\n",
    "B0.next = B1\n",
    "B1.next = B2\n",
    "B2.next = B3\n",
    "B3.next = B4\n",
    "\n",
    "s = Solution()\n",
    "res = s.subtract(B0)\n",
    "\n",
    "while res:\n",
    "    print(res.val)\n",
    "    res = res.next"
   ]
  },
  {
   "cell_type": "code",
   "execution_count": null,
   "metadata": {},
   "outputs": [],
   "source": []
  }
 ],
 "metadata": {
  "kernelspec": {
   "display_name": "Python 2",
   "language": "python",
   "name": "python2"
  },
  "language_info": {
   "codemirror_mode": {
    "name": "ipython",
    "version": 2
   },
   "file_extension": ".py",
   "mimetype": "text/x-python",
   "name": "python",
   "nbconvert_exporter": "python",
   "pygments_lexer": "ipython2",
   "version": "2.7.14"
  }
 },
 "nbformat": 4,
 "nbformat_minor": 2
}

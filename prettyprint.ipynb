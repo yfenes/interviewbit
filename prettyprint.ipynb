{
 "cells": [
  {
   "cell_type": "code",
   "execution_count": 17,
   "metadata": {},
   "outputs": [
    {
     "data": {
      "text/plain": [
       "[[5, 5, 5, 5, 5, 5, 5, 5, 5],\n",
       " [5, 4, 4, 4, 4, 4, 4, 4, 5],\n",
       " [5, 4, 3, 3, 3, 3, 3, 4, 5],\n",
       " [5, 4, 3, 2, 2, 2, 3, 4, 5],\n",
       " [5, 4, 3, 2, 1, 2, 3, 4, 5],\n",
       " [5, 4, 3, 2, 2, 2, 3, 4, 5],\n",
       " [5, 4, 3, 3, 3, 3, 3, 4, 5],\n",
       " [5, 4, 4, 4, 4, 4, 4, 4, 5],\n",
       " [5, 5, 5, 5, 5, 5, 5, 5, 5]]"
      ]
     },
     "execution_count": 17,
     "metadata": {},
     "output_type": "execute_result"
    }
   ],
   "source": [
    "class Solution:\n",
    "    # @param A : integer\n",
    "    # @return a list of list of integers\n",
    "    def prettyPrint(self, A):\n",
    "        \n",
    "        res = []\n",
    "        n_var = 1\n",
    "        \n",
    "        line_len = 2*A - 1\n",
    "        for i in range(line_len):\n",
    "            line = []\n",
    "            num_to_print = A\n",
    "            for j in range(line_len):\n",
    "                line.append(num_to_print)\n",
    "                if j < n_var-1:\n",
    "                    num_to_print -= 1\n",
    "                elif j > line_len - n_var -1:\n",
    "                    num_to_print += 1\n",
    "                \n",
    "            res.append(line)\n",
    "            \n",
    "            \n",
    "            if i<A-1:\n",
    "                n_var += 1\n",
    "            else:\n",
    "                n_var -= 1\n",
    "        return res\n",
    "s = Solution()\n",
    "A = 5\n",
    "s.prettyPrint(A)"
   ]
  },
  {
   "cell_type": "code",
   "execution_count": null,
   "metadata": {},
   "outputs": [],
   "source": []
  }
 ],
 "metadata": {
  "kernelspec": {
   "display_name": "Python 3",
   "language": "python",
   "name": "python3"
  },
  "language_info": {
   "codemirror_mode": {
    "name": "ipython",
    "version": 3
   },
   "file_extension": ".py",
   "mimetype": "text/x-python",
   "name": "python",
   "nbconvert_exporter": "python",
   "pygments_lexer": "ipython3",
   "version": "3.6.4"
  }
 },
 "nbformat": 4,
 "nbformat_minor": 2
}
